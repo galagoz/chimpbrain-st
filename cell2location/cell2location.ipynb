{
 "cells": [
  {
   "cell_type": "code",
   "execution_count": 1,
   "id": "3754fc2e-15c1-41f8-a74a-f679bea32ff1",
   "metadata": {},
   "outputs": [],
   "source": [
    "import sys\n",
    "IN_COLAB = \"google.colab\" in sys.modules\n",
    "if IN_COLAB:\n",
    "    !pip install --quiet scvi-colab\n",
    "    from scvi_colab import install\n",
    "    install()\n",
    "    !pip install --quiet git+https://github.com/BayraktarLab/cell2location#egg=cell2location[tutorials]"
   ]
  },
  {
   "cell_type": "code",
   "execution_count": 2,
   "id": "225e6254-e669-4325-94ca-7e4b1f47e030",
   "metadata": {},
   "outputs": [
    {
     "name": "stderr",
     "output_type": "stream",
     "text": [
      "/home/gokala/.conda/envs/cell2loc_env/lib/python3.9/site-packages/tqdm/auto.py:21: TqdmWarning: IProgress not found. Please update jupyter and ipywidgets. See https://ipywidgets.readthedocs.io/en/stable/user_install.html\n",
      "  from .autonotebook import tqdm as notebook_tqdm\n",
      "/home/gokala/.conda/envs/cell2loc_env/lib/python3.9/site-packages/scvi/_settings.py:63: UserWarning: Since v1.0.0, scvi-tools no longer uses a random seed by default. Run `scvi.settings.seed = 0` to reproduce results from previous versions.\n",
      "  self.seed = seed\n",
      "/home/gokala/.conda/envs/cell2loc_env/lib/python3.9/site-packages/scvi/_settings.py:70: UserWarning: Setting `dl_pin_memory_gpu_training` is deprecated in v1.0 and will be removed in v1.1. Please pass in `pin_memory` to the data loaders instead.\n",
      "  self.dl_pin_memory_gpu_training = (\n"
     ]
    }
   ],
   "source": [
    "import scanpy as sc\n",
    "import numpy as np\n",
    "import matplotlib.pyplot as plt \n",
    "import matplotlib as mpl\n",
    "import math\n",
    "import biomart\n",
    "import pandas as pd\n",
    "\n",
    "import cell2location\n",
    "\n",
    "from matplotlib import rcParams\n",
    "rcParams['pdf.fonttype'] = 42 # enables correct plotting of text for PDFs"
   ]
  },
  {
   "cell_type": "code",
   "execution_count": 3,
   "id": "2230a214-4c4e-489a-b6a7-ca8b54521ded",
   "metadata": {},
   "outputs": [],
   "source": [
    "results_folder = '/data/workspaces/lag/workspaces/lg-spatial-transcriptomics/working_data/chimp_brain/gokberk/results/snRNA_integration/'\n",
    "\n",
    "# create paths and names to results folders for reference regression and cell2location models\n",
    "ref_run_name = f'{results_folder}reference_signatures'\n",
    "run_name = f'{results_folder}cell2location_map'"
   ]
  },
  {
   "cell_type": "code",
   "execution_count": 19,
   "id": "d2697dcb-37b0-4257-9c24-bf66675c6064",
   "metadata": {},
   "outputs": [
    {
     "name": "stderr",
     "output_type": "stream",
     "text": [
      "/home/gokala/.conda/envs/cell2loc_env/lib/python3.9/site-packages/anndata/_core/anndata.py:1820: UserWarning: Variable names are not unique. To make them unique, call `.var_names_make_unique`.\n",
      "  utils.warn_names_duplicates(\"var\")\n",
      "/home/gokala/.conda/envs/cell2loc_env/lib/python3.9/site-packages/anndata/_core/anndata.py:1820: UserWarning: Variable names are not unique. To make them unique, call `.var_names_make_unique`.\n",
      "  utils.warn_names_duplicates(\"var\")\n"
     ]
    }
   ],
   "source": [
    "adata_vis = sc.read_visium(path = '/data/workspaces/lag/workspaces/lg-spatial-transcriptomics/working_data/chimp_brain/gokberk/data/takki_st_count/Takki_leFP_004_D1/Takki_leFP_004_D1/outs/',\n",
    "                               library_id = 'Takki_leFP_004_D1',\n",
    "                               source_image_path = '/data/workspaces/lag/workspaces/lg-spatial-transcriptomics/working_data/chimp_brain/gokberk/data/takki_st_count/Takki_leFP_004_D1/Takki_leFP_004_D1/outs/spatial')\n",
    "adata_vis.obs['sample'] = list(adata_vis.uns['spatial'].keys())[0]"
   ]
  },
  {
   "cell_type": "code",
   "execution_count": 20,
   "id": "f3d7d6db-9f50-4fed-b514-93278e76f584",
   "metadata": {},
   "outputs": [],
   "source": [
    "adata_vis.var['SYMBOL'] = adata_vis.var_names\n",
    "adata_vis.var.set_index('gene_ids', drop=True, inplace=True)"
   ]
  },
  {
   "cell_type": "code",
   "execution_count": 21,
   "id": "ac1899bf-f1f0-4ca8-bcf5-745523c6b1c9",
   "metadata": {},
   "outputs": [],
   "source": [
    "# find mitochondria-encoded (MT) genes\n",
    "adata_vis.var['MT_gene'] = [gene.startswith('MT-') for gene in adata_vis.var['SYMBOL']]\n",
    "    \n",
    "# remove MT genes for spatial mapping (keeping their counts in the object)\n",
    "adata_vis.obsm['MT'] = adata_vis[:, adata_vis.var['MT_gene'].values].X.toarray()\n",
    "adata_vis = adata_vis[:, ~adata_vis.var['MT_gene'].values]"
   ]
  },
  {
   "cell_type": "code",
   "execution_count": 10,
   "id": "82e890e1-2efe-4bbe-8ec6-e538a5c55abc",
   "metadata": {},
   "outputs": [],
   "source": [
    "# Read data\n",
    "adata_ref = sc.read(f'/data/workspaces/lag/workspaces/lg-spatial-transcriptomics/working_data/chimp_brain/gokberk/data/ma_etal2022_chimp_dlPFC_snRNA/processed/PFC_snRNAseq_liftover.h5ad')"
   ]
  },
  {
   "cell_type": "code",
   "execution_count": 25,
   "id": "9e408971-8954-4cfc-8fdd-0d8bd010342f",
   "metadata": {},
   "outputs": [
    {
     "data": {
      "text/plain": [
       "<610719x28216 sparse matrix of type '<class 'numpy.float64'>'\n",
       "\twith 1698177212 stored elements in Compressed Sparse Row format>"
      ]
     },
     "execution_count": 25,
     "metadata": {},
     "output_type": "execute_result"
    }
   ],
   "source": [
    "# make sure raw data is in the ref data\n",
    "adata_ref.raw.X\n",
    "\n",
    "# keep only chimpanzee samples in ref data\n",
    "adata_ref_chimp = adata_ref[adata_ref.obs[\"species\"]==\"Chimpanzee\"]\n",
    "\n",
    "# replace main data layer (X) of adata_ref_chimp with raw counts,\n",
    "# because cell2location works with raw counts only\n",
    "adata_ref_chimp = adata_ref_chimp.raw.to_adata()\n",
    "\n",
    "# make sure you indeed have integers/counts in your anndata \n",
    "# object\n",
    "print(adata_ref_chimp.X)\n",
    "\n",
    "# change column name _index to features, because this default\n",
    "# column name causes issues later on\n",
    "adata_ref_chimp.var.rename(columns={\"_index\": \"features\"}, inplace=True)"
   ]
  },
  {
   "cell_type": "code",
   "execution_count": 52,
   "id": "b0a82635-c5ba-4b59-828a-3c435b8dc7f0",
   "metadata": {},
   "outputs": [
    {
     "name": "stdout",
     "output_type": "stream",
     "text": [
      "                  gene_ID gene_name\n",
      "0      ENSPTRG00000000799     HOOK1\n",
      "1      ENSPTRG00000049634    RNF223\n",
      "2      ENSPTRG00000049400      PRR9\n",
      "3      ENSPTRG00000050454    H2BC21\n",
      "4      ENSPTRG00000001964    FAM71A\n",
      "...                   ...       ...\n",
      "17612  ENSPTRG00000003337     AKIP1\n",
      "17613  ENSPTRG00000052272     DMAC2\n",
      "17614  ENSPTRG00000009762    ACTBL2\n",
      "17615  ENSPTRG00000009765   TSPAN10\n",
      "17616  ENSPTRG00000049595    HS3ST6\n",
      "\n",
      "[17617 rows x 2 columns]\n"
     ]
    }
   ],
   "source": [
    "# Read the chimp GTF file as a dataframe\n",
    "gtf_df = pd.read_csv(\"/data/workspaces/lag/workspaces/lg-spatial-transcriptomics/working_data/chimp_brain/gokberk/resources/ref_genomes_from10x/ref_freshf/chimp_ref/genes/protein_coding_genes_wGeneNames.gtf\", sep=\"\\t\", header=None)\n",
    "\n",
    "# Extract gene IDs and gene names\n",
    "gtf_df['gene_ID'] = gtf_df[8].str.extract(r'gene_id \"(.*?)\";')\n",
    "gtf_df['gene_name'] = gtf_df[8].str.extract(r'gene_name \"(.*?)\";')\n",
    "\n",
    "gtf_df_clean = gtf_df[['gene_ID', 'gene_name']].copy()\n",
    "\n",
    "# Display the extracted gene IDs and gene names\n",
    "print(gtf_df_clean)\n",
    "\n",
    "# Ensure the index of gtf_df_clean has unique values in the gene_name column\n",
    "gtf_df_clean_unique = gtf_df_clean.drop_duplicates(subset='gene_name').set_index('gene_name')"
   ]
  },
  {
   "cell_type": "code",
   "execution_count": 65,
   "id": "8dea4d95-892f-4153-a1c1-1bfa6b8b7507",
   "metadata": {},
   "outputs": [
    {
     "name": "stdout",
     "output_type": "stream",
     "text": [
      "                         features             gene_ID\n",
      "gene_ID                                              \n",
      "NaN                  RP11-54O7.16                 NaN\n",
      "NaN                   RP11-54O7.1                 NaN\n",
      "NaN                   RP11-54O7.2                 NaN\n",
      "NaN                   RP11-54O7.3                 NaN\n",
      "ENSPTRG00000023092         SAMD11  ENSPTRG00000023092\n",
      "...                           ...                 ...\n",
      "NaN                 RP13-228J13.1                 NaN\n",
      "ENSPTRG00000046127          VAMP7  ENSPTRG00000046127\n",
      "ENSPTRG00000022504         EIF1AY  ENSPTRG00000022504\n",
      "ENSPTRG00000022505         RPS4Y2  ENSPTRG00000022505\n",
      "NaN                        TTTY3B                 NaN\n",
      "\n",
      "[28216 rows x 2 columns]\n"
     ]
    }
   ],
   "source": [
    "# Map the gene_ID column from gtf_df_clean to adata_ref_chimp.var based on the gene_name column\n",
    "adata_ref_chimp.var['gene_ID'] = adata_ref_chimp.var['features'].map(gtf_df_clean_unique['gene_ID'])\n",
    "\n",
    "# Set gene_ID values as the index in the adata_ref_chimp.var DataFrame\n",
    "adata_ref_chimp.var.set_index('gene_ID')\n",
    "\n",
    "# Display the updated adata_ref_chimp.var DataFrame\n",
    "print(adata_ref_chimp.var)\n",
    "\n",
    "# If the GTF file doesn't have ensembl ID for a gene symbol, fill that NaN value with\n",
    "# the gene symbol. Genes without an Ensembl ID will be filtered out down in the pipeline.\n",
    "#TODO see if this makes sense for the analysis, post an issue to cell2loc github page!\n",
    "adata_ref_chimp.var['gene_ID'].fillna(adata_ref_chimp.var['features'], inplace=True)\n",
    "adata_ref_chimp.var.index = adata_ref_chimp.var['gene_ID']"
   ]
  },
  {
   "cell_type": "code",
   "execution_count": 70,
   "id": "1f803fa6-6249-4e4b-b802-14ec59375a33",
   "metadata": {},
   "outputs": [
    {
     "name": "stderr",
     "output_type": "stream",
     "text": [
      "/home/gokala/.conda/envs/cell2loc_env/lib/python3.9/site-packages/pandas/core/arraylike.py:399: RuntimeWarning: divide by zero encountered in log10\n",
      "  result = getattr(ufunc, method)(*inputs, **kwargs)\n"
     ]
    },
    {
     "data": {
      "image/png": "[encoded data removed]",
      "text/plain": [
       "<Figure size 640x480 with 1 Axes>"
      ]
     },
     "metadata": {},
     "output_type": "display_data"
    }
   ],
   "source": [
    "from cell2location.utils.filtering import filter_genes\n",
    "selected = filter_genes(adata_ref_chimp, cell_count_cutoff=5, cell_percentage_cutoff2=0.03, nonz_mean_cutoff=1.12)\n",
    "\n",
    "# filter the object\n",
    "adata_ref_chimp = adata_ref_chimp[:, selected].copy()"
   ]
  },
  {
   "cell_type": "code",
   "execution_count": 71,
   "id": "7745a923-a437-42b8-a5c0-e4515e5c3f04",
   "metadata": {},
   "outputs": [
    {
     "name": "stderr",
     "output_type": "stream",
     "text": [
      "/home/gokala/.conda/envs/cell2loc_env/lib/python3.9/abc.py:119: FutureWarning: SparseDataset is deprecated and will be removed in late 2024. It has been replaced by the public classes CSRDataset and CSCDataset.\n",
      "\n",
      "For instance checks, use `isinstance(X, (anndata.experimental.CSRDataset, anndata.experimental.CSCDataset))` instead.\n",
      "\n",
      "For creation, use `anndata.experimental.sparse_dataset(X)` instead.\n",
      "\n",
      "  return _abc_instancecheck(cls, instance)\n"
     ]
    }
   ],
   "source": [
    "# prepare anndata for the regression model\n",
    "cell2location.models.RegressionModel.setup_anndata(adata = adata_ref_chimp, \n",
    "                        # 10X reaction / sample / batch\n",
    "                        batch_key='samplename', \n",
    "                        # cell type, covariate used for constructing signatures\n",
    "                        labels_key='subclass', \n",
    "                        # multiplicative technical effects (platform, 3' vs 5', donor effect)\n",
    "                        categorical_covariate_keys=['tech_rep']\n",
    "                       )"
   ]
  },
  {
   "cell_type": "code",
   "execution_count": 72,
   "id": "f4674fb9-2117-4237-8290-637cc86d29ef",
   "metadata": {},
   "outputs": [
    {
     "data": {
      "text/html": [
       "<pre style=\"white-space:pre;overflow-x:auto;line-height:normal;font-family:Menlo,'DejaVu Sans Mono',consolas,'Courier New',monospace\">Anndata setup with scvi-tools version <span style=\"color: #008080; text-decoration-color: #008080; font-weight: bold\">1.0</span>.<span style=\"color: #008080; text-decoration-color: #008080; font-weight: bold\">4</span>.\n",
       "</pre>\n"
      ],
      "text/plain": [
       "Anndata setup with scvi-tools version \u001b[1;36m1.0\u001b[0m.\u001b[1;36m4\u001b[0m.\n"
      ]
     },
     "metadata": {},
     "output_type": "display_data"
    },
    {
     "data": {
      "text/html": [
       "<pre style=\"white-space:pre;overflow-x:auto;line-height:normal;font-family:Menlo,'DejaVu Sans Mono',consolas,'Courier New',monospace\">\n",
       "</pre>\n"
      ],
      "text/plain": [
       "\n"
      ]
     },
     "metadata": {},
     "output_type": "display_data"
    },
    {
     "data": {
      "text/html": [
       "<pre style=\"white-space:pre;overflow-x:auto;line-height:normal;font-family:Menlo,'DejaVu Sans Mono',consolas,'Courier New',monospace\">Setup via `RegressionModel.setup_anndata` with arguments:\n",
       "</pre>\n"
      ],
      "text/plain": [
       "Setup via `RegressionModel.setup_anndata` with arguments:\n"
      ]
     },
     "metadata": {},
     "output_type": "display_data"
    },
    {
     "data": {
      "text/html": [
       "<pre style=\"white-space:pre;overflow-x:auto;line-height:normal;font-family:Menlo,'DejaVu Sans Mono',consolas,'Courier New',monospace\"><span style=\"font-weight: bold\">{</span>\n",
       "<span style=\"color: #7fbf7f; text-decoration-color: #7fbf7f\">│   </span><span style=\"color: #008000; text-decoration-color: #008000\">'layer'</span>: <span style=\"color: #800080; text-decoration-color: #800080; font-style: italic\">None</span>,\n",
       "<span style=\"color: #7fbf7f; text-decoration-color: #7fbf7f\">│   </span><span style=\"color: #008000; text-decoration-color: #008000\">'batch_key'</span>: <span style=\"color: #008000; text-decoration-color: #008000\">'samplename'</span>,\n",
       "<span style=\"color: #7fbf7f; text-decoration-color: #7fbf7f\">│   </span><span style=\"color: #008000; text-decoration-color: #008000\">'labels_key'</span>: <span style=\"color: #008000; text-decoration-color: #008000\">'subclass'</span>,\n",
       "<span style=\"color: #7fbf7f; text-decoration-color: #7fbf7f\">│   </span><span style=\"color: #008000; text-decoration-color: #008000\">'categorical_covariate_keys'</span>: <span style=\"font-weight: bold\">[</span><span style=\"color: #008000; text-decoration-color: #008000\">'tech_rep'</span><span style=\"font-weight: bold\">]</span>,\n",
       "<span style=\"color: #7fbf7f; text-decoration-color: #7fbf7f\">│   </span><span style=\"color: #008000; text-decoration-color: #008000\">'continuous_covariate_keys'</span>: <span style=\"color: #800080; text-decoration-color: #800080; font-style: italic\">None</span>\n",
       "<span style=\"font-weight: bold\">}</span>\n",
       "</pre>\n"
      ],
      "text/plain": [
       "\u001b[1m{\u001b[0m\n",
       "\u001b[2;32m│   \u001b[0m\u001b[32m'layer'\u001b[0m: \u001b[3;35mNone\u001b[0m,\n",
       "\u001b[2;32m│   \u001b[0m\u001b[32m'batch_key'\u001b[0m: \u001b[32m'samplename'\u001b[0m,\n",
       "\u001b[2;32m│   \u001b[0m\u001b[32m'labels_key'\u001b[0m: \u001b[32m'subclass'\u001b[0m,\n",
       "\u001b[2;32m│   \u001b[0m\u001b[32m'categorical_covariate_keys'\u001b[0m: \u001b[1m[\u001b[0m\u001b[32m'tech_rep'\u001b[0m\u001b[1m]\u001b[0m,\n",
       "\u001b[2;32m│   \u001b[0m\u001b[32m'continuous_covariate_keys'\u001b[0m: \u001b[3;35mNone\u001b[0m\n",
       "\u001b[1m}\u001b[0m\n"
      ]
     },
     "metadata": {},
     "output_type": "display_data"
    },
    {
     "data": {
      "text/html": [
       "<pre style=\"white-space:pre;overflow-x:auto;line-height:normal;font-family:Menlo,'DejaVu Sans Mono',consolas,'Courier New',monospace\">\n",
       "</pre>\n"
      ],
      "text/plain": [
       "\n"
      ]
     },
     "metadata": {},
     "output_type": "display_data"
    },
    {
     "data": {
      "text/html": [
       "<pre style=\"white-space:pre;overflow-x:auto;line-height:normal;font-family:Menlo,'DejaVu Sans Mono',consolas,'Courier New',monospace\"><span style=\"font-style: italic\">         Summary Statistics          </span>\n",
       "┏━━━━━━━━━━━━━━━━━━━━━━━━━━┳━━━━━━━━┓\n",
       "┃<span style=\"font-weight: bold\">     Summary Stat Key     </span>┃<span style=\"font-weight: bold\"> Value  </span>┃\n",
       "┡━━━━━━━━━━━━━━━━━━━━━━━━━━╇━━━━━━━━┩\n",
       "│<span style=\"color: #0087ff; text-decoration-color: #0087ff\">         n_batch          </span>│<span style=\"color: #af00d7; text-decoration-color: #af00d7\">   4    </span>│\n",
       "│<span style=\"color: #0087ff; text-decoration-color: #0087ff\">         n_cells          </span>│<span style=\"color: #af00d7; text-decoration-color: #af00d7\"> 158099 </span>│\n",
       "│<span style=\"color: #0087ff; text-decoration-color: #0087ff\"> n_extra_categorical_covs </span>│<span style=\"color: #af00d7; text-decoration-color: #af00d7\">   1    </span>│\n",
       "│<span style=\"color: #0087ff; text-decoration-color: #0087ff\"> n_extra_continuous_covs  </span>│<span style=\"color: #af00d7; text-decoration-color: #af00d7\">   0    </span>│\n",
       "│<span style=\"color: #0087ff; text-decoration-color: #0087ff\">         n_labels         </span>│<span style=\"color: #af00d7; text-decoration-color: #af00d7\">   29   </span>│\n",
       "│<span style=\"color: #0087ff; text-decoration-color: #0087ff\">          n_vars          </span>│<span style=\"color: #af00d7; text-decoration-color: #af00d7\"> 13279  </span>│\n",
       "└──────────────────────────┴────────┘\n",
       "</pre>\n"
      ],
      "text/plain": [
       "\u001b[3m         Summary Statistics          \u001b[0m\n",
       "┏━━━━━━━━━━━━━━━━━━━━━━━━━━┳━━━━━━━━┓\n",
       "┃\u001b[1m \u001b[0m\u001b[1m    Summary Stat Key    \u001b[0m\u001b[1m \u001b[0m┃\u001b[1m \u001b[0m\u001b[1mValue \u001b[0m\u001b[1m \u001b[0m┃\n",
       "┡━━━━━━━━━━━━━━━━━━━━━━━━━━╇━━━━━━━━┩\n",
       "│\u001b[38;5;33m \u001b[0m\u001b[38;5;33m        n_batch         \u001b[0m\u001b[38;5;33m \u001b[0m│\u001b[38;5;128m \u001b[0m\u001b[38;5;128m  4   \u001b[0m\u001b[38;5;128m \u001b[0m│\n",
       "│\u001b[38;5;33m \u001b[0m\u001b[38;5;33m        n_cells         \u001b[0m\u001b[38;5;33m \u001b[0m│\u001b[38;5;128m \u001b[0m\u001b[38;5;128m158099\u001b[0m\u001b[38;5;128m \u001b[0m│\n",
       "│\u001b[38;5;33m \u001b[0m\u001b[38;5;33mn_extra_categorical_covs\u001b[0m\u001b[38;5;33m \u001b[0m│\u001b[38;5;128m \u001b[0m\u001b[38;5;128m  1   \u001b[0m\u001b[38;5;128m \u001b[0m│\n",
       "│\u001b[38;5;33m \u001b[0m\u001b[38;5;33mn_extra_continuous_covs \u001b[0m\u001b[38;5;33m \u001b[0m│\u001b[38;5;128m \u001b[0m\u001b[38;5;128m  0   \u001b[0m\u001b[38;5;128m \u001b[0m│\n",
       "│\u001b[38;5;33m \u001b[0m\u001b[38;5;33m        n_labels        \u001b[0m\u001b[38;5;33m \u001b[0m│\u001b[38;5;128m \u001b[0m\u001b[38;5;128m  29  \u001b[0m\u001b[38;5;128m \u001b[0m│\n",
       "│\u001b[38;5;33m \u001b[0m\u001b[38;5;33m         n_vars         \u001b[0m\u001b[38;5;33m \u001b[0m│\u001b[38;5;128m \u001b[0m\u001b[38;5;128m13279 \u001b[0m\u001b[38;5;128m \u001b[0m│\n",
       "└──────────────────────────┴────────┘\n"
      ]
     },
     "metadata": {},
     "output_type": "display_data"
    },
    {
     "data": {
      "text/html": [
       "<pre style=\"white-space:pre;overflow-x:auto;line-height:normal;font-family:Menlo,'DejaVu Sans Mono',consolas,'Courier New',monospace\"><span style=\"font-style: italic\">                             Data Registry                             </span>\n",
       "┏━━━━━━━━━━━━━━━━━━━━━━━━┳━━━━━━━━━━━━━━━━━━━━━━━━━━━━━━━━━━━━━━━━━━━━┓\n",
       "┃<span style=\"font-weight: bold\">      Registry Key      </span>┃<span style=\"font-weight: bold\">            scvi-tools Location             </span>┃\n",
       "┡━━━━━━━━━━━━━━━━━━━━━━━━╇━━━━━━━━━━━━━━━━━━━━━━━━━━━━━━━━━━━━━━━━━━━━┩\n",
       "│<span style=\"color: #0087ff; text-decoration-color: #0087ff\">           X            </span>│<span style=\"color: #af00d7; text-decoration-color: #af00d7\">                  adata.X                   </span>│\n",
       "│<span style=\"color: #0087ff; text-decoration-color: #0087ff\">         batch          </span>│<span style=\"color: #af00d7; text-decoration-color: #af00d7\">          adata.obs['_scvi_batch']          </span>│\n",
       "│<span style=\"color: #0087ff; text-decoration-color: #0087ff\"> extra_categorical_covs </span>│<span style=\"color: #af00d7; text-decoration-color: #af00d7\"> adata.obsm['_scvi_extra_categorical_covs'] </span>│\n",
       "│<span style=\"color: #0087ff; text-decoration-color: #0087ff\">         ind_x          </span>│<span style=\"color: #af00d7; text-decoration-color: #af00d7\">           adata.obs['_indices']            </span>│\n",
       "│<span style=\"color: #0087ff; text-decoration-color: #0087ff\">         labels         </span>│<span style=\"color: #af00d7; text-decoration-color: #af00d7\">         adata.obs['_scvi_labels']          </span>│\n",
       "└────────────────────────┴────────────────────────────────────────────┘\n",
       "</pre>\n"
      ],
      "text/plain": [
       "\u001b[3m                             Data Registry                             \u001b[0m\n",
       "┏━━━━━━━━━━━━━━━━━━━━━━━━┳━━━━━━━━━━━━━━━━━━━━━━━━━━━━━━━━━━━━━━━━━━━━┓\n",
       "┃\u001b[1m \u001b[0m\u001b[1m     Registry Key     \u001b[0m\u001b[1m \u001b[0m┃\u001b[1m \u001b[0m\u001b[1m           scvi-tools Location            \u001b[0m\u001b[1m \u001b[0m┃\n",
       "┡━━━━━━━━━━━━━━━━━━━━━━━━╇━━━━━━━━━━━━━━━━━━━━━━━━━━━━━━━━━━━━━━━━━━━━┩\n",
       "│\u001b[38;5;33m \u001b[0m\u001b[38;5;33m          X           \u001b[0m\u001b[38;5;33m \u001b[0m│\u001b[38;5;128m \u001b[0m\u001b[38;5;128m                 adata.X                  \u001b[0m\u001b[38;5;128m \u001b[0m│\n",
       "│\u001b[38;5;33m \u001b[0m\u001b[38;5;33m        batch         \u001b[0m\u001b[38;5;33m \u001b[0m│\u001b[38;5;128m \u001b[0m\u001b[38;5;128m         adata.obs['_scvi_batch']         \u001b[0m\u001b[38;5;128m \u001b[0m│\n",
       "│\u001b[38;5;33m \u001b[0m\u001b[38;5;33mextra_categorical_covs\u001b[0m\u001b[38;5;33m \u001b[0m│\u001b[38;5;128m \u001b[0m\u001b[38;5;128madata.obsm['_scvi_extra_categorical_covs']\u001b[0m\u001b[38;5;128m \u001b[0m│\n",
       "│\u001b[38;5;33m \u001b[0m\u001b[38;5;33m        ind_x         \u001b[0m\u001b[38;5;33m \u001b[0m│\u001b[38;5;128m \u001b[0m\u001b[38;5;128m          adata.obs['_indices']           \u001b[0m\u001b[38;5;128m \u001b[0m│\n",
       "│\u001b[38;5;33m \u001b[0m\u001b[38;5;33m        labels        \u001b[0m\u001b[38;5;33m \u001b[0m│\u001b[38;5;128m \u001b[0m\u001b[38;5;128m        adata.obs['_scvi_labels']         \u001b[0m\u001b[38;5;128m \u001b[0m│\n",
       "└────────────────────────┴────────────────────────────────────────────┘\n"
      ]
     },
     "metadata": {},
     "output_type": "display_data"
    },
    {
     "data": {
      "text/html": [
       "<pre style=\"white-space:pre;overflow-x:auto;line-height:normal;font-family:Menlo,'DejaVu Sans Mono',consolas,'Courier New',monospace\"><span style=\"font-style: italic\">                     batch State Registry                     </span>\n",
       "┏━━━━━━━━━━━━━━━━━━━━━━━━━┳━━━━━━━━━━━━┳━━━━━━━━━━━━━━━━━━━━━┓\n",
       "┃<span style=\"font-weight: bold\">     Source Location     </span>┃<span style=\"font-weight: bold\"> Categories </span>┃<span style=\"font-weight: bold\"> scvi-tools Encoding </span>┃\n",
       "┡━━━━━━━━━━━━━━━━━━━━━━━━━╇━━━━━━━━━━━━╇━━━━━━━━━━━━━━━━━━━━━┩\n",
       "│<span style=\"color: #0087ff; text-decoration-color: #0087ff\"> adata.obs['samplename'] </span>│<span style=\"color: #008000; text-decoration-color: #008000\">   PTB165   </span>│<span style=\"color: #af00d7; text-decoration-color: #af00d7\">          0          </span>│\n",
       "│<span style=\"color: #0087ff; text-decoration-color: #0087ff\">                         </span>│<span style=\"color: #008000; text-decoration-color: #008000\">   PTB166   </span>│<span style=\"color: #af00d7; text-decoration-color: #af00d7\">          1          </span>│\n",
       "│<span style=\"color: #0087ff; text-decoration-color: #0087ff\">                         </span>│<span style=\"color: #008000; text-decoration-color: #008000\">  PTB1841   </span>│<span style=\"color: #af00d7; text-decoration-color: #af00d7\">          2          </span>│\n",
       "│<span style=\"color: #0087ff; text-decoration-color: #0087ff\">                         </span>│<span style=\"color: #008000; text-decoration-color: #008000\">  PTB2169   </span>│<span style=\"color: #af00d7; text-decoration-color: #af00d7\">          3          </span>│\n",
       "└─────────────────────────┴────────────┴─────────────────────┘\n",
       "</pre>\n"
      ],
      "text/plain": [
       "\u001b[3m                     batch State Registry                     \u001b[0m\n",
       "┏━━━━━━━━━━━━━━━━━━━━━━━━━┳━━━━━━━━━━━━┳━━━━━━━━━━━━━━━━━━━━━┓\n",
       "┃\u001b[1m \u001b[0m\u001b[1m    Source Location    \u001b[0m\u001b[1m \u001b[0m┃\u001b[1m \u001b[0m\u001b[1mCategories\u001b[0m\u001b[1m \u001b[0m┃\u001b[1m \u001b[0m\u001b[1mscvi-tools Encoding\u001b[0m\u001b[1m \u001b[0m┃\n",
       "┡━━━━━━━━━━━━━━━━━━━━━━━━━╇━━━━━━━━━━━━╇━━━━━━━━━━━━━━━━━━━━━┩\n",
       "│\u001b[38;5;33m \u001b[0m\u001b[38;5;33madata.obs['samplename']\u001b[0m\u001b[38;5;33m \u001b[0m│\u001b[32m \u001b[0m\u001b[32m  PTB165  \u001b[0m\u001b[32m \u001b[0m│\u001b[38;5;128m \u001b[0m\u001b[38;5;128m         0         \u001b[0m\u001b[38;5;128m \u001b[0m│\n",
       "│\u001b[38;5;33m \u001b[0m\u001b[38;5;33m                       \u001b[0m\u001b[38;5;33m \u001b[0m│\u001b[32m \u001b[0m\u001b[32m  PTB166  \u001b[0m\u001b[32m \u001b[0m│\u001b[38;5;128m \u001b[0m\u001b[38;5;128m         1         \u001b[0m\u001b[38;5;128m \u001b[0m│\n",
       "│\u001b[38;5;33m \u001b[0m\u001b[38;5;33m                       \u001b[0m\u001b[38;5;33m \u001b[0m│\u001b[32m \u001b[0m\u001b[32m PTB1841  \u001b[0m\u001b[32m \u001b[0m│\u001b[38;5;128m \u001b[0m\u001b[38;5;128m         2         \u001b[0m\u001b[38;5;128m \u001b[0m│\n",
       "│\u001b[38;5;33m \u001b[0m\u001b[38;5;33m                       \u001b[0m\u001b[38;5;33m \u001b[0m│\u001b[32m \u001b[0m\u001b[32m PTB2169  \u001b[0m\u001b[32m \u001b[0m│\u001b[38;5;128m \u001b[0m\u001b[38;5;128m         3         \u001b[0m\u001b[38;5;128m \u001b[0m│\n",
       "└─────────────────────────┴────────────┴─────────────────────┘\n"
      ]
     },
     "metadata": {},
     "output_type": "display_data"
    },
    {
     "data": {
      "text/html": [
       "<pre style=\"white-space:pre;overflow-x:auto;line-height:normal;font-family:Menlo,'DejaVu Sans Mono',consolas,'Courier New',monospace\"><span style=\"font-style: italic\">                    labels State Registry                     </span>\n",
       "┏━━━━━━━━━━━━━━━━━━━━━━━┳━━━━━━━━━━━━━━┳━━━━━━━━━━━━━━━━━━━━━┓\n",
       "┃<span style=\"font-weight: bold\">    Source Location    </span>┃<span style=\"font-weight: bold\">  Categories  </span>┃<span style=\"font-weight: bold\"> scvi-tools Encoding </span>┃\n",
       "┡━━━━━━━━━━━━━━━━━━━━━━━╇━━━━━━━━━━━━━━╇━━━━━━━━━━━━━━━━━━━━━┩\n",
       "│<span style=\"color: #0087ff; text-decoration-color: #0087ff\"> adata.obs['subclass'] </span>│<span style=\"color: #008000; text-decoration-color: #008000\"> ADARB2 KCNG1 </span>│<span style=\"color: #af00d7; text-decoration-color: #af00d7\">          0          </span>│\n",
       "│<span style=\"color: #0087ff; text-decoration-color: #0087ff\">                       </span>│<span style=\"color: #008000; text-decoration-color: #008000\">    Astro     </span>│<span style=\"color: #af00d7; text-decoration-color: #af00d7\">          1          </span>│\n",
       "│<span style=\"color: #0087ff; text-decoration-color: #0087ff\">                       </span>│<span style=\"color: #008000; text-decoration-color: #008000\">     Endo     </span>│<span style=\"color: #af00d7; text-decoration-color: #af00d7\">          2          </span>│\n",
       "│<span style=\"color: #0087ff; text-decoration-color: #0087ff\">                       </span>│<span style=\"color: #008000; text-decoration-color: #008000\">    Immune    </span>│<span style=\"color: #af00d7; text-decoration-color: #af00d7\">          3          </span>│\n",
       "│<span style=\"color: #0087ff; text-decoration-color: #0087ff\">                       </span>│<span style=\"color: #008000; text-decoration-color: #008000\">   L2-3 IT    </span>│<span style=\"color: #af00d7; text-decoration-color: #af00d7\">          4          </span>│\n",
       "│<span style=\"color: #0087ff; text-decoration-color: #0087ff\">                       </span>│<span style=\"color: #008000; text-decoration-color: #008000\">  L3-5 IT-1   </span>│<span style=\"color: #af00d7; text-decoration-color: #af00d7\">          5          </span>│\n",
       "│<span style=\"color: #0087ff; text-decoration-color: #0087ff\">                       </span>│<span style=\"color: #008000; text-decoration-color: #008000\">  L3-5 IT-2   </span>│<span style=\"color: #af00d7; text-decoration-color: #af00d7\">          6          </span>│\n",
       "│<span style=\"color: #0087ff; text-decoration-color: #0087ff\">                       </span>│<span style=\"color: #008000; text-decoration-color: #008000\">  L3-5 IT-3   </span>│<span style=\"color: #af00d7; text-decoration-color: #af00d7\">          7          </span>│\n",
       "│<span style=\"color: #0087ff; text-decoration-color: #0087ff\">                       </span>│<span style=\"color: #008000; text-decoration-color: #008000\">    L5 ET     </span>│<span style=\"color: #af00d7; text-decoration-color: #af00d7\">          8          </span>│\n",
       "│<span style=\"color: #0087ff; text-decoration-color: #0087ff\">                       </span>│<span style=\"color: #008000; text-decoration-color: #008000\">   L5-6 NP    </span>│<span style=\"color: #af00d7; text-decoration-color: #af00d7\">          9          </span>│\n",
       "│<span style=\"color: #0087ff; text-decoration-color: #0087ff\">                       </span>│<span style=\"color: #008000; text-decoration-color: #008000\">    L6 CT     </span>│<span style=\"color: #af00d7; text-decoration-color: #af00d7\">         10          </span>│\n",
       "│<span style=\"color: #0087ff; text-decoration-color: #0087ff\">                       </span>│<span style=\"color: #008000; text-decoration-color: #008000\">   L6 IT-1    </span>│<span style=\"color: #af00d7; text-decoration-color: #af00d7\">         11          </span>│\n",
       "│<span style=\"color: #0087ff; text-decoration-color: #0087ff\">                       </span>│<span style=\"color: #008000; text-decoration-color: #008000\">   L6 IT-2    </span>│<span style=\"color: #af00d7; text-decoration-color: #af00d7\">         12          </span>│\n",
       "│<span style=\"color: #0087ff; text-decoration-color: #0087ff\">                       </span>│<span style=\"color: #008000; text-decoration-color: #008000\">     L6B      </span>│<span style=\"color: #af00d7; text-decoration-color: #af00d7\">         13          </span>│\n",
       "│<span style=\"color: #0087ff; text-decoration-color: #0087ff\">                       </span>│<span style=\"color: #008000; text-decoration-color: #008000\">  LAMP5 LHX6  </span>│<span style=\"color: #af00d7; text-decoration-color: #af00d7\">         14          </span>│\n",
       "│<span style=\"color: #0087ff; text-decoration-color: #0087ff\">                       </span>│<span style=\"color: #008000; text-decoration-color: #008000\">  LAMP5 RELN  </span>│<span style=\"color: #af00d7; text-decoration-color: #af00d7\">         15          </span>│\n",
       "│<span style=\"color: #0087ff; text-decoration-color: #0087ff\">                       </span>│<span style=\"color: #008000; text-decoration-color: #008000\">    Micro     </span>│<span style=\"color: #af00d7; text-decoration-color: #af00d7\">         16          </span>│\n",
       "│<span style=\"color: #0087ff; text-decoration-color: #0087ff\">                       </span>│<span style=\"color: #008000; text-decoration-color: #008000\">     OPC      </span>│<span style=\"color: #af00d7; text-decoration-color: #af00d7\">         17          </span>│\n",
       "│<span style=\"color: #0087ff; text-decoration-color: #0087ff\">                       </span>│<span style=\"color: #008000; text-decoration-color: #008000\">    Oligo     </span>│<span style=\"color: #af00d7; text-decoration-color: #af00d7\">         18          </span>│\n",
       "│<span style=\"color: #0087ff; text-decoration-color: #0087ff\">                       </span>│<span style=\"color: #008000; text-decoration-color: #008000\">      PC      </span>│<span style=\"color: #af00d7; text-decoration-color: #af00d7\">         19          </span>│\n",
       "│<span style=\"color: #0087ff; text-decoration-color: #0087ff\">                       </span>│<span style=\"color: #008000; text-decoration-color: #008000\">    PVALB     </span>│<span style=\"color: #af00d7; text-decoration-color: #af00d7\">         20          </span>│\n",
       "│<span style=\"color: #0087ff; text-decoration-color: #0087ff\">                       </span>│<span style=\"color: #008000; text-decoration-color: #008000\">  PVALB ChC   </span>│<span style=\"color: #af00d7; text-decoration-color: #af00d7\">         21          </span>│\n",
       "│<span style=\"color: #0087ff; text-decoration-color: #0087ff\">                       </span>│<span style=\"color: #008000; text-decoration-color: #008000\">      RB      </span>│<span style=\"color: #af00d7; text-decoration-color: #af00d7\">         22          </span>│\n",
       "│<span style=\"color: #0087ff; text-decoration-color: #0087ff\">                       </span>│<span style=\"color: #008000; text-decoration-color: #008000\">     SMC      </span>│<span style=\"color: #af00d7; text-decoration-color: #af00d7\">         23          </span>│\n",
       "│<span style=\"color: #0087ff; text-decoration-color: #0087ff\">                       </span>│<span style=\"color: #008000; text-decoration-color: #008000\">     SST      </span>│<span style=\"color: #af00d7; text-decoration-color: #af00d7\">         24          </span>│\n",
       "│<span style=\"color: #0087ff; text-decoration-color: #0087ff\">                       </span>│<span style=\"color: #008000; text-decoration-color: #008000\">   SST HGF    </span>│<span style=\"color: #af00d7; text-decoration-color: #af00d7\">         25          </span>│\n",
       "│<span style=\"color: #0087ff; text-decoration-color: #0087ff\">                       </span>│<span style=\"color: #008000; text-decoration-color: #008000\">   SST NPY    </span>│<span style=\"color: #af00d7; text-decoration-color: #af00d7\">         26          </span>│\n",
       "│<span style=\"color: #0087ff; text-decoration-color: #0087ff\">                       </span>│<span style=\"color: #008000; text-decoration-color: #008000\">     VIP      </span>│<span style=\"color: #af00d7; text-decoration-color: #af00d7\">         27          </span>│\n",
       "│<span style=\"color: #0087ff; text-decoration-color: #0087ff\">                       </span>│<span style=\"color: #008000; text-decoration-color: #008000\">     VLMC     </span>│<span style=\"color: #af00d7; text-decoration-color: #af00d7\">         28          </span>│\n",
       "└───────────────────────┴──────────────┴─────────────────────┘\n",
       "</pre>\n"
      ],
      "text/plain": [
       "\u001b[3m                    labels State Registry                     \u001b[0m\n",
       "┏━━━━━━━━━━━━━━━━━━━━━━━┳━━━━━━━━━━━━━━┳━━━━━━━━━━━━━━━━━━━━━┓\n",
       "┃\u001b[1m \u001b[0m\u001b[1m   Source Location   \u001b[0m\u001b[1m \u001b[0m┃\u001b[1m \u001b[0m\u001b[1m Categories \u001b[0m\u001b[1m \u001b[0m┃\u001b[1m \u001b[0m\u001b[1mscvi-tools Encoding\u001b[0m\u001b[1m \u001b[0m┃\n",
       "┡━━━━━━━━━━━━━━━━━━━━━━━╇━━━━━━━━━━━━━━╇━━━━━━━━━━━━━━━━━━━━━┩\n",
       "│\u001b[38;5;33m \u001b[0m\u001b[38;5;33madata.obs['subclass']\u001b[0m\u001b[38;5;33m \u001b[0m│\u001b[32m \u001b[0m\u001b[32mADARB2 KCNG1\u001b[0m\u001b[32m \u001b[0m│\u001b[38;5;128m \u001b[0m\u001b[38;5;128m         0         \u001b[0m\u001b[38;5;128m \u001b[0m│\n",
       "│\u001b[38;5;33m \u001b[0m\u001b[38;5;33m                     \u001b[0m\u001b[38;5;33m \u001b[0m│\u001b[32m \u001b[0m\u001b[32m   Astro    \u001b[0m\u001b[32m \u001b[0m│\u001b[38;5;128m \u001b[0m\u001b[38;5;128m         1         \u001b[0m\u001b[38;5;128m \u001b[0m│\n",
       "│\u001b[38;5;33m \u001b[0m\u001b[38;5;33m                     \u001b[0m\u001b[38;5;33m \u001b[0m│\u001b[32m \u001b[0m\u001b[32m    Endo    \u001b[0m\u001b[32m \u001b[0m│\u001b[38;5;128m \u001b[0m\u001b[38;5;128m         2         \u001b[0m\u001b[38;5;128m \u001b[0m│\n",
       "│\u001b[38;5;33m \u001b[0m\u001b[38;5;33m                     \u001b[0m\u001b[38;5;33m \u001b[0m│\u001b[32m \u001b[0m\u001b[32m   Immune   \u001b[0m\u001b[32m \u001b[0m│\u001b[38;5;128m \u001b[0m\u001b[38;5;128m         3         \u001b[0m\u001b[38;5;128m \u001b[0m│\n",
       "│\u001b[38;5;33m \u001b[0m\u001b[38;5;33m                     \u001b[0m\u001b[38;5;33m \u001b[0m│\u001b[32m \u001b[0m\u001b[32m  L2-3 IT   \u001b[0m\u001b[32m \u001b[0m│\u001b[38;5;128m \u001b[0m\u001b[38;5;128m         4         \u001b[0m\u001b[38;5;128m \u001b[0m│\n",
       "│\u001b[38;5;33m \u001b[0m\u001b[38;5;33m                     \u001b[0m\u001b[38;5;33m \u001b[0m│\u001b[32m \u001b[0m\u001b[32m L3-5 IT-1  \u001b[0m\u001b[32m \u001b[0m│\u001b[38;5;128m \u001b[0m\u001b[38;5;128m         5         \u001b[0m\u001b[38;5;128m \u001b[0m│\n",
       "│\u001b[38;5;33m \u001b[0m\u001b[38;5;33m                     \u001b[0m\u001b[38;5;33m \u001b[0m│\u001b[32m \u001b[0m\u001b[32m L3-5 IT-2  \u001b[0m\u001b[32m \u001b[0m│\u001b[38;5;128m \u001b[0m\u001b[38;5;128m         6         \u001b[0m\u001b[38;5;128m \u001b[0m│\n",
       "│\u001b[38;5;33m \u001b[0m\u001b[38;5;33m                     \u001b[0m\u001b[38;5;33m \u001b[0m│\u001b[32m \u001b[0m\u001b[32m L3-5 IT-3  \u001b[0m\u001b[32m \u001b[0m│\u001b[38;5;128m \u001b[0m\u001b[38;5;128m         7         \u001b[0m\u001b[38;5;128m \u001b[0m│\n",
       "│\u001b[38;5;33m \u001b[0m\u001b[38;5;33m                     \u001b[0m\u001b[38;5;33m \u001b[0m│\u001b[32m \u001b[0m\u001b[32m   L5 ET    \u001b[0m\u001b[32m \u001b[0m│\u001b[38;5;128m \u001b[0m\u001b[38;5;128m         8         \u001b[0m\u001b[38;5;128m \u001b[0m│\n",
       "│\u001b[38;5;33m \u001b[0m\u001b[38;5;33m                     \u001b[0m\u001b[38;5;33m \u001b[0m│\u001b[32m \u001b[0m\u001b[32m  L5-6 NP   \u001b[0m\u001b[32m \u001b[0m│\u001b[38;5;128m \u001b[0m\u001b[38;5;128m         9         \u001b[0m\u001b[38;5;128m \u001b[0m│\n",
       "│\u001b[38;5;33m \u001b[0m\u001b[38;5;33m                     \u001b[0m\u001b[38;5;33m \u001b[0m│\u001b[32m \u001b[0m\u001b[32m   L6 CT    \u001b[0m\u001b[32m \u001b[0m│\u001b[38;5;128m \u001b[0m\u001b[38;5;128m        10         \u001b[0m\u001b[38;5;128m \u001b[0m│\n",
       "│\u001b[38;5;33m \u001b[0m\u001b[38;5;33m                     \u001b[0m\u001b[38;5;33m \u001b[0m│\u001b[32m \u001b[0m\u001b[32m  L6 IT-1   \u001b[0m\u001b[32m \u001b[0m│\u001b[38;5;128m \u001b[0m\u001b[38;5;128m        11         \u001b[0m\u001b[38;5;128m \u001b[0m│\n",
       "│\u001b[38;5;33m \u001b[0m\u001b[38;5;33m                     \u001b[0m\u001b[38;5;33m \u001b[0m│\u001b[32m \u001b[0m\u001b[32m  L6 IT-2   \u001b[0m\u001b[32m \u001b[0m│\u001b[38;5;128m \u001b[0m\u001b[38;5;128m        12         \u001b[0m\u001b[38;5;128m \u001b[0m│\n",
       "│\u001b[38;5;33m \u001b[0m\u001b[38;5;33m                     \u001b[0m\u001b[38;5;33m \u001b[0m│\u001b[32m \u001b[0m\u001b[32m    L6B     \u001b[0m\u001b[32m \u001b[0m│\u001b[38;5;128m \u001b[0m\u001b[38;5;128m        13         \u001b[0m\u001b[38;5;128m \u001b[0m│\n",
       "│\u001b[38;5;33m \u001b[0m\u001b[38;5;33m                     \u001b[0m\u001b[38;5;33m \u001b[0m│\u001b[32m \u001b[0m\u001b[32m LAMP5 LHX6 \u001b[0m\u001b[32m \u001b[0m│\u001b[38;5;128m \u001b[0m\u001b[38;5;128m        14         \u001b[0m\u001b[38;5;128m \u001b[0m│\n",
       "│\u001b[38;5;33m \u001b[0m\u001b[38;5;33m                     \u001b[0m\u001b[38;5;33m \u001b[0m│\u001b[32m \u001b[0m\u001b[32m LAMP5 RELN \u001b[0m\u001b[32m \u001b[0m│\u001b[38;5;128m \u001b[0m\u001b[38;5;128m        15         \u001b[0m\u001b[38;5;128m \u001b[0m│\n",
       "│\u001b[38;5;33m \u001b[0m\u001b[38;5;33m                     \u001b[0m\u001b[38;5;33m \u001b[0m│\u001b[32m \u001b[0m\u001b[32m   Micro    \u001b[0m\u001b[32m \u001b[0m│\u001b[38;5;128m \u001b[0m\u001b[38;5;128m        16         \u001b[0m\u001b[38;5;128m \u001b[0m│\n",
       "│\u001b[38;5;33m \u001b[0m\u001b[38;5;33m                     \u001b[0m\u001b[38;5;33m \u001b[0m│\u001b[32m \u001b[0m\u001b[32m    OPC     \u001b[0m\u001b[32m \u001b[0m│\u001b[38;5;128m \u001b[0m\u001b[38;5;128m        17         \u001b[0m\u001b[38;5;128m \u001b[0m│\n",
       "│\u001b[38;5;33m \u001b[0m\u001b[38;5;33m                     \u001b[0m\u001b[38;5;33m \u001b[0m│\u001b[32m \u001b[0m\u001b[32m   Oligo    \u001b[0m\u001b[32m \u001b[0m│\u001b[38;5;128m \u001b[0m\u001b[38;5;128m        18         \u001b[0m\u001b[38;5;128m \u001b[0m│\n",
       "│\u001b[38;5;33m \u001b[0m\u001b[38;5;33m                     \u001b[0m\u001b[38;5;33m \u001b[0m│\u001b[32m \u001b[0m\u001b[32m     PC     \u001b[0m\u001b[32m \u001b[0m│\u001b[38;5;128m \u001b[0m\u001b[38;5;128m        19         \u001b[0m\u001b[38;5;128m \u001b[0m│\n",
       "│\u001b[38;5;33m \u001b[0m\u001b[38;5;33m                     \u001b[0m\u001b[38;5;33m \u001b[0m│\u001b[32m \u001b[0m\u001b[32m   PVALB    \u001b[0m\u001b[32m \u001b[0m│\u001b[38;5;128m \u001b[0m\u001b[38;5;128m        20         \u001b[0m\u001b[38;5;128m \u001b[0m│\n",
       "│\u001b[38;5;33m \u001b[0m\u001b[38;5;33m                     \u001b[0m\u001b[38;5;33m \u001b[0m│\u001b[32m \u001b[0m\u001b[32m PVALB ChC  \u001b[0m\u001b[32m \u001b[0m│\u001b[38;5;128m \u001b[0m\u001b[38;5;128m        21         \u001b[0m\u001b[38;5;128m \u001b[0m│\n",
       "│\u001b[38;5;33m \u001b[0m\u001b[38;5;33m                     \u001b[0m\u001b[38;5;33m \u001b[0m│\u001b[32m \u001b[0m\u001b[32m     RB     \u001b[0m\u001b[32m \u001b[0m│\u001b[38;5;128m \u001b[0m\u001b[38;5;128m        22         \u001b[0m\u001b[38;5;128m \u001b[0m│\n",
       "│\u001b[38;5;33m \u001b[0m\u001b[38;5;33m                     \u001b[0m\u001b[38;5;33m \u001b[0m│\u001b[32m \u001b[0m\u001b[32m    SMC     \u001b[0m\u001b[32m \u001b[0m│\u001b[38;5;128m \u001b[0m\u001b[38;5;128m        23         \u001b[0m\u001b[38;5;128m \u001b[0m│\n",
       "│\u001b[38;5;33m \u001b[0m\u001b[38;5;33m                     \u001b[0m\u001b[38;5;33m \u001b[0m│\u001b[32m \u001b[0m\u001b[32m    SST     \u001b[0m\u001b[32m \u001b[0m│\u001b[38;5;128m \u001b[0m\u001b[38;5;128m        24         \u001b[0m\u001b[38;5;128m \u001b[0m│\n",
       "│\u001b[38;5;33m \u001b[0m\u001b[38;5;33m                     \u001b[0m\u001b[38;5;33m \u001b[0m│\u001b[32m \u001b[0m\u001b[32m  SST HGF   \u001b[0m\u001b[32m \u001b[0m│\u001b[38;5;128m \u001b[0m\u001b[38;5;128m        25         \u001b[0m\u001b[38;5;128m \u001b[0m│\n",
       "│\u001b[38;5;33m \u001b[0m\u001b[38;5;33m                     \u001b[0m\u001b[38;5;33m \u001b[0m│\u001b[32m \u001b[0m\u001b[32m  SST NPY   \u001b[0m\u001b[32m \u001b[0m│\u001b[38;5;128m \u001b[0m\u001b[38;5;128m        26         \u001b[0m\u001b[38;5;128m \u001b[0m│\n",
       "│\u001b[38;5;33m \u001b[0m\u001b[38;5;33m                     \u001b[0m\u001b[38;5;33m \u001b[0m│\u001b[32m \u001b[0m\u001b[32m    VIP     \u001b[0m\u001b[32m \u001b[0m│\u001b[38;5;128m \u001b[0m\u001b[38;5;128m        27         \u001b[0m\u001b[38;5;128m \u001b[0m│\n",
       "│\u001b[38;5;33m \u001b[0m\u001b[38;5;33m                     \u001b[0m\u001b[38;5;33m \u001b[0m│\u001b[32m \u001b[0m\u001b[32m    VLMC    \u001b[0m\u001b[32m \u001b[0m│\u001b[38;5;128m \u001b[0m\u001b[38;5;128m        28         \u001b[0m\u001b[38;5;128m \u001b[0m│\n",
       "└───────────────────────┴──────────────┴─────────────────────┘\n"
      ]
     },
     "metadata": {},
     "output_type": "display_data"
    },
    {
     "data": {
      "text/html": [
       "<pre style=\"white-space:pre;overflow-x:auto;line-height:normal;font-family:Menlo,'DejaVu Sans Mono',consolas,'Courier New',monospace\"><span style=\"font-style: italic\">           extra_categorical_covs State Registry            </span>\n",
       "┏━━━━━━━━━━━━━━━━━━━━━━━┳━━━━━━━━━━━━┳━━━━━━━━━━━━━━━━━━━━━┓\n",
       "┃<span style=\"font-weight: bold\">    Source Location    </span>┃<span style=\"font-weight: bold\"> Categories </span>┃<span style=\"font-weight: bold\"> scvi-tools Encoding </span>┃\n",
       "┡━━━━━━━━━━━━━━━━━━━━━━━╇━━━━━━━━━━━━╇━━━━━━━━━━━━━━━━━━━━━┩\n",
       "│<span style=\"color: #0087ff; text-decoration-color: #0087ff\"> adata.obs['tech_rep'] </span>│<span style=\"color: #008000; text-decoration-color: #008000\">  PTB165_1  </span>│<span style=\"color: #af00d7; text-decoration-color: #af00d7\">          0          </span>│\n",
       "│<span style=\"color: #0087ff; text-decoration-color: #0087ff\">                       </span>│<span style=\"color: #008000; text-decoration-color: #008000\">  PTB165_2  </span>│<span style=\"color: #af00d7; text-decoration-color: #af00d7\">          1          </span>│\n",
       "│<span style=\"color: #0087ff; text-decoration-color: #0087ff\">                       </span>│<span style=\"color: #008000; text-decoration-color: #008000\">  PTB165_3  </span>│<span style=\"color: #af00d7; text-decoration-color: #af00d7\">          2          </span>│\n",
       "│<span style=\"color: #0087ff; text-decoration-color: #0087ff\">                       </span>│<span style=\"color: #008000; text-decoration-color: #008000\">  PTB165_4  </span>│<span style=\"color: #af00d7; text-decoration-color: #af00d7\">          3          </span>│\n",
       "│<span style=\"color: #0087ff; text-decoration-color: #0087ff\">                       </span>│<span style=\"color: #008000; text-decoration-color: #008000\">  PTB166_1  </span>│<span style=\"color: #af00d7; text-decoration-color: #af00d7\">          4          </span>│\n",
       "│<span style=\"color: #0087ff; text-decoration-color: #0087ff\">                       </span>│<span style=\"color: #008000; text-decoration-color: #008000\">  PTB166_2  </span>│<span style=\"color: #af00d7; text-decoration-color: #af00d7\">          5          </span>│\n",
       "│<span style=\"color: #0087ff; text-decoration-color: #0087ff\">                       </span>│<span style=\"color: #008000; text-decoration-color: #008000\">  PTB166_3  </span>│<span style=\"color: #af00d7; text-decoration-color: #af00d7\">          6          </span>│\n",
       "│<span style=\"color: #0087ff; text-decoration-color: #0087ff\">                       </span>│<span style=\"color: #008000; text-decoration-color: #008000\">  PTB166_4  </span>│<span style=\"color: #af00d7; text-decoration-color: #af00d7\">          7          </span>│\n",
       "│<span style=\"color: #0087ff; text-decoration-color: #0087ff\">                       </span>│<span style=\"color: #008000; text-decoration-color: #008000\"> PTB1841_1  </span>│<span style=\"color: #af00d7; text-decoration-color: #af00d7\">          8          </span>│\n",
       "│<span style=\"color: #0087ff; text-decoration-color: #0087ff\">                       </span>│<span style=\"color: #008000; text-decoration-color: #008000\"> PTB1841_2  </span>│<span style=\"color: #af00d7; text-decoration-color: #af00d7\">          9          </span>│\n",
       "│<span style=\"color: #0087ff; text-decoration-color: #0087ff\">                       </span>│<span style=\"color: #008000; text-decoration-color: #008000\"> PTB1841_3  </span>│<span style=\"color: #af00d7; text-decoration-color: #af00d7\">         10          </span>│\n",
       "│<span style=\"color: #0087ff; text-decoration-color: #0087ff\">                       </span>│<span style=\"color: #008000; text-decoration-color: #008000\"> PTB1841_4  </span>│<span style=\"color: #af00d7; text-decoration-color: #af00d7\">         11          </span>│\n",
       "│<span style=\"color: #0087ff; text-decoration-color: #0087ff\">                       </span>│<span style=\"color: #008000; text-decoration-color: #008000\"> PTB2169_1  </span>│<span style=\"color: #af00d7; text-decoration-color: #af00d7\">         12          </span>│\n",
       "│<span style=\"color: #0087ff; text-decoration-color: #0087ff\">                       </span>│<span style=\"color: #008000; text-decoration-color: #008000\"> PTB2169_2  </span>│<span style=\"color: #af00d7; text-decoration-color: #af00d7\">         13          </span>│\n",
       "│<span style=\"color: #0087ff; text-decoration-color: #0087ff\">                       </span>│<span style=\"color: #008000; text-decoration-color: #008000\"> PTB2169_3  </span>│<span style=\"color: #af00d7; text-decoration-color: #af00d7\">         14          </span>│\n",
       "│<span style=\"color: #0087ff; text-decoration-color: #0087ff\">                       </span>│<span style=\"color: #008000; text-decoration-color: #008000\"> PTB2169_4  </span>│<span style=\"color: #af00d7; text-decoration-color: #af00d7\">         15          </span>│\n",
       "│<span style=\"color: #0087ff; text-decoration-color: #0087ff\">                       </span>│<span style=\"color: #008000; text-decoration-color: #008000\">            </span>│<span style=\"color: #af00d7; text-decoration-color: #af00d7\">                     </span>│\n",
       "└───────────────────────┴────────────┴─────────────────────┘\n",
       "</pre>\n"
      ],
      "text/plain": [
       "\u001b[3m           extra_categorical_covs State Registry            \u001b[0m\n",
       "┏━━━━━━━━━━━━━━━━━━━━━━━┳━━━━━━━━━━━━┳━━━━━━━━━━━━━━━━━━━━━┓\n",
       "┃\u001b[1m \u001b[0m\u001b[1m   Source Location   \u001b[0m\u001b[1m \u001b[0m┃\u001b[1m \u001b[0m\u001b[1mCategories\u001b[0m\u001b[1m \u001b[0m┃\u001b[1m \u001b[0m\u001b[1mscvi-tools Encoding\u001b[0m\u001b[1m \u001b[0m┃\n",
       "┡━━━━━━━━━━━━━━━━━━━━━━━╇━━━━━━━━━━━━╇━━━━━━━━━━━━━━━━━━━━━┩\n",
       "│\u001b[38;5;33m \u001b[0m\u001b[38;5;33madata.obs['tech_rep']\u001b[0m\u001b[38;5;33m \u001b[0m│\u001b[32m \u001b[0m\u001b[32m PTB165_1 \u001b[0m\u001b[32m \u001b[0m│\u001b[38;5;128m \u001b[0m\u001b[38;5;128m         0         \u001b[0m\u001b[38;5;128m \u001b[0m│\n",
       "│\u001b[38;5;33m \u001b[0m\u001b[38;5;33m                     \u001b[0m\u001b[38;5;33m \u001b[0m│\u001b[32m \u001b[0m\u001b[32m PTB165_2 \u001b[0m\u001b[32m \u001b[0m│\u001b[38;5;128m \u001b[0m\u001b[38;5;128m         1         \u001b[0m\u001b[38;5;128m \u001b[0m│\n",
       "│\u001b[38;5;33m \u001b[0m\u001b[38;5;33m                     \u001b[0m\u001b[38;5;33m \u001b[0m│\u001b[32m \u001b[0m\u001b[32m PTB165_3 \u001b[0m\u001b[32m \u001b[0m│\u001b[38;5;128m \u001b[0m\u001b[38;5;128m         2         \u001b[0m\u001b[38;5;128m \u001b[0m│\n",
       "│\u001b[38;5;33m \u001b[0m\u001b[38;5;33m                     \u001b[0m\u001b[38;5;33m \u001b[0m│\u001b[32m \u001b[0m\u001b[32m PTB165_4 \u001b[0m\u001b[32m \u001b[0m│\u001b[38;5;128m \u001b[0m\u001b[38;5;128m         3         \u001b[0m\u001b[38;5;128m \u001b[0m│\n",
       "│\u001b[38;5;33m \u001b[0m\u001b[38;5;33m                     \u001b[0m\u001b[38;5;33m \u001b[0m│\u001b[32m \u001b[0m\u001b[32m PTB166_1 \u001b[0m\u001b[32m \u001b[0m│\u001b[38;5;128m \u001b[0m\u001b[38;5;128m         4         \u001b[0m\u001b[38;5;128m \u001b[0m│\n",
       "│\u001b[38;5;33m \u001b[0m\u001b[38;5;33m                     \u001b[0m\u001b[38;5;33m \u001b[0m│\u001b[32m \u001b[0m\u001b[32m PTB166_2 \u001b[0m\u001b[32m \u001b[0m│\u001b[38;5;128m \u001b[0m\u001b[38;5;128m         5         \u001b[0m\u001b[38;5;128m \u001b[0m│\n",
       "│\u001b[38;5;33m \u001b[0m\u001b[38;5;33m                     \u001b[0m\u001b[38;5;33m \u001b[0m│\u001b[32m \u001b[0m\u001b[32m PTB166_3 \u001b[0m\u001b[32m \u001b[0m│\u001b[38;5;128m \u001b[0m\u001b[38;5;128m         6         \u001b[0m\u001b[38;5;128m \u001b[0m│\n",
       "│\u001b[38;5;33m \u001b[0m\u001b[38;5;33m                     \u001b[0m\u001b[38;5;33m \u001b[0m│\u001b[32m \u001b[0m\u001b[32m PTB166_4 \u001b[0m\u001b[32m \u001b[0m│\u001b[38;5;128m \u001b[0m\u001b[38;5;128m         7         \u001b[0m\u001b[38;5;128m \u001b[0m│\n",
       "│\u001b[38;5;33m \u001b[0m\u001b[38;5;33m                     \u001b[0m\u001b[38;5;33m \u001b[0m│\u001b[32m \u001b[0m\u001b[32mPTB1841_1 \u001b[0m\u001b[32m \u001b[0m│\u001b[38;5;128m \u001b[0m\u001b[38;5;128m         8         \u001b[0m\u001b[38;5;128m \u001b[0m│\n",
       "│\u001b[38;5;33m \u001b[0m\u001b[38;5;33m                     \u001b[0m\u001b[38;5;33m \u001b[0m│\u001b[32m \u001b[0m\u001b[32mPTB1841_2 \u001b[0m\u001b[32m \u001b[0m│\u001b[38;5;128m \u001b[0m\u001b[38;5;128m         9         \u001b[0m\u001b[38;5;128m \u001b[0m│\n",
       "│\u001b[38;5;33m \u001b[0m\u001b[38;5;33m                     \u001b[0m\u001b[38;5;33m \u001b[0m│\u001b[32m \u001b[0m\u001b[32mPTB1841_3 \u001b[0m\u001b[32m \u001b[0m│\u001b[38;5;128m \u001b[0m\u001b[38;5;128m        10         \u001b[0m\u001b[38;5;128m \u001b[0m│\n",
       "│\u001b[38;5;33m \u001b[0m\u001b[38;5;33m                     \u001b[0m\u001b[38;5;33m \u001b[0m│\u001b[32m \u001b[0m\u001b[32mPTB1841_4 \u001b[0m\u001b[32m \u001b[0m│\u001b[38;5;128m \u001b[0m\u001b[38;5;128m        11         \u001b[0m\u001b[38;5;128m \u001b[0m│\n",
       "│\u001b[38;5;33m \u001b[0m\u001b[38;5;33m                     \u001b[0m\u001b[38;5;33m \u001b[0m│\u001b[32m \u001b[0m\u001b[32mPTB2169_1 \u001b[0m\u001b[32m \u001b[0m│\u001b[38;5;128m \u001b[0m\u001b[38;5;128m        12         \u001b[0m\u001b[38;5;128m \u001b[0m│\n",
       "│\u001b[38;5;33m \u001b[0m\u001b[38;5;33m                     \u001b[0m\u001b[38;5;33m \u001b[0m│\u001b[32m \u001b[0m\u001b[32mPTB2169_2 \u001b[0m\u001b[32m \u001b[0m│\u001b[38;5;128m \u001b[0m\u001b[38;5;128m        13         \u001b[0m\u001b[38;5;128m \u001b[0m│\n",
       "│\u001b[38;5;33m \u001b[0m\u001b[38;5;33m                     \u001b[0m\u001b[38;5;33m \u001b[0m│\u001b[32m \u001b[0m\u001b[32mPTB2169_3 \u001b[0m\u001b[32m \u001b[0m│\u001b[38;5;128m \u001b[0m\u001b[38;5;128m        14         \u001b[0m\u001b[38;5;128m \u001b[0m│\n",
       "│\u001b[38;5;33m \u001b[0m\u001b[38;5;33m                     \u001b[0m\u001b[38;5;33m \u001b[0m│\u001b[32m \u001b[0m\u001b[32mPTB2169_4 \u001b[0m\u001b[32m \u001b[0m│\u001b[38;5;128m \u001b[0m\u001b[38;5;128m        15         \u001b[0m\u001b[38;5;128m \u001b[0m│\n",
       "│\u001b[38;5;33m \u001b[0m\u001b[38;5;33m                     \u001b[0m\u001b[38;5;33m \u001b[0m│\u001b[32m \u001b[0m\u001b[32m          \u001b[0m\u001b[32m \u001b[0m│\u001b[38;5;128m \u001b[0m\u001b[38;5;128m                   \u001b[0m\u001b[38;5;128m \u001b[0m│\n",
       "└───────────────────────┴────────────┴─────────────────────┘\n"
      ]
     },
     "metadata": {},
     "output_type": "display_data"
    }
   ],
   "source": [
    "# create the regression model\n",
    "from cell2location.models import RegressionModel\n",
    "mod = RegressionModel(adata_ref_chimp) \n",
    "\n",
    "# view anndata_setup as a sanity check\n",
    "mod.view_anndata_setup()"
   ]
  },
  {
   "cell_type": "code",
   "execution_count": 73,
   "id": "3940b363-c228-462d-a75f-97ac95c2c0ea",
   "metadata": {},
   "outputs": [
    {
     "name": "stderr",
     "output_type": "stream",
     "text": [
      "GPU available: False, used: False\n",
      "TPU available: False, using: 0 TPU cores\n",
      "IPU available: False, using: 0 IPUs\n",
      "HPU available: False, using: 0 HPUs\n",
      "/home/gokala/.conda/envs/cell2loc_env/lib/python3.9/site-packages/lightning/pytorch/trainer/configuration_validator.py:69: You passed in a `val_dataloader` but have no `validation_step`. Skipping val loop.\n",
      "/home/gokala/.conda/envs/cell2loc_env/lib/python3.9/abc.py:119: FutureWarning: SparseDataset is deprecated and will be removed in late 2024. It has been replaced by the public classes CSRDataset and CSCDataset.\n",
      "\n",
      "For instance checks, use `isinstance(X, (anndata.experimental.CSRDataset, anndata.experimental.CSCDataset))` instead.\n",
      "\n",
      "For creation, use `anndata.experimental.sparse_dataset(X)` instead.\n",
      "\n",
      "  return _abc_instancecheck(cls, instance)\n"
     ]
    },
    {
     "name": "stdout",
     "output_type": "stream",
     "text": [
      "Epoch 250/250: 100%|███████████████████████████████████████████████████████████████████████████████████████████████████████████████████████████████████████████████████████| 250/250 [19:23:03<00:00, 274.72s/it, v_num=1, elbo_train=1.2e+9]"
     ]
    },
    {
     "name": "stderr",
     "output_type": "stream",
     "text": [
      "`Trainer.fit` stopped: `max_epochs=250` reached.\n"
     ]
    },
    {
     "name": "stdout",
     "output_type": "stream",
     "text": [
      "Epoch 250/250: 100%|███████████████████████████████████████████████████████████████████████████████████████████████████████████████████████████████████████████████████████| 250/250 [19:23:03<00:00, 279.14s/it, v_num=1, elbo_train=1.2e+9]\n"
     ]
    }
   ],
   "source": [
    "mod.train(max_epochs=250)"
   ]
  },
  {
   "cell_type": "code",
   "execution_count": 74,
   "id": "779982c2-1823-433d-8556-137e810bfd00",
   "metadata": {},
   "outputs": [
    {
     "data": {
      "image/png": "[encoded data removed]",
      "text/plain": [
       "<Figure size 640x480 with 1 Axes>"
      ]
     },
     "metadata": {},
     "output_type": "display_data"
    }
   ],
   "source": [
    "mod.plot_history(20)"
   ]
  },
  {
   "cell_type": "code",
   "execution_count": 75,
   "id": "ac9c13e9-b859-4145-84a1-ba9a440e7911",
   "metadata": {},
   "outputs": [
    {
     "name": "stderr",
     "output_type": "stream",
     "text": [
      "/home/gokala/.conda/envs/cell2loc_env/lib/python3.9/site-packages/scvi/model/base/_pyromixin.py:388: UserWarning: `use_gpu` is deprecated in v1.0 and will be removed in v1.1. Please use `accelerator` and `devices` instead.\n",
      "  _, _, device = parse_device_args(\n"
     ]
    },
    {
     "name": "stdout",
     "output_type": "stream",
     "text": [
      "Sampling local variables, batch:   0%|                                                                                                                                                                                | 0/64 [00:00<?, ?it/s]\n",
      "Sampling global variables, sample: 100%|███████████████████████████████████████████████████████████████████████████████████████████████████████████████████████████████████████████████████████████████████| 999/999 [02:58<00:00,  5.61it/s]\n"
     ]
    }
   ],
   "source": [
    "# In this section, we export the estimated cell abundance (summary of the posterior distribution).\n",
    "adata_ref_chimp = mod.export_posterior(\n",
    "    adata_ref_chimp, sample_kwargs={'num_samples': 1000, 'batch_size': 2500, 'use_gpu': False}\n",
    ")\n",
    "\n",
    "# Save model\n",
    "mod.save(f\"{ref_run_name}\", overwrite=True)\n",
    "\n",
    "# Save anndata object with results\n",
    "adata_file = f\"{ref_run_name}/sc.h5ad\"\n",
    "adata_ref_chimp.write(adata_file)"
   ]
  },
  {
   "cell_type": "code",
   "execution_count": 77,
   "id": "d6bf91f8-776a-4bb3-9b94-8909a1c08a5e",
   "metadata": {},
   "outputs": [],
   "source": [
    "#adata_ref_chimp = mod.export_posterior(\n",
    "#    adata_ref_chimp, use_quantiles=True,\n",
    "#    # choose quantiles\n",
    "#    add_to_obsm=[\"q05\",\"q50\", \"q95\"],\n",
    "#    sample_kwargs={'batch_size': 2500, 'use_gpu': False}\n",
    "#)"
   ]
  },
  {
   "cell_type": "code",
   "execution_count": 78,
   "id": "5ab2dea5-756f-4028-aeeb-a73b73500098",
   "metadata": {},
   "outputs": [
    {
     "data": {
      "image/png": "[encoded data removed]",
      "text/plain": [
       "<Figure size 640x480 with 1 Axes>"
      ]
     },
     "metadata": {},
     "output_type": "display_data"
    },
    {
     "data": {
      "image/png": "[encoded data removed]",
      "text/plain": [
       "<Figure size 640x480 with 1 Axes>"
      ]
     },
     "metadata": {},
     "output_type": "display_data"
    }
   ],
   "source": [
    "mod.plot_QC()"
   ]
  },
  {
   "cell_type": "code",
   "execution_count": 7,
   "id": "6f7534f8-64c7-4fe2-aac3-0677554ac209",
   "metadata": {},
   "outputs": [
    {
     "name": "stdout",
     "output_type": "stream",
     "text": [
      "\u001b[34mINFO    \u001b[0m File                                                                                                      \n",
      "         \u001b[35m/data/workspaces/lag/workspaces/lg-spatial-transcriptomics/working_data/chimp_brain/gokberk/results/snRNA_\u001b[0m\n",
      "         \u001b[35mintegration/reference_signatures/\u001b[0m\u001b[95mmodel.pt\u001b[0m already downloaded                                              \n"
     ]
    },
    {
     "name": "stderr",
     "output_type": "stream",
     "text": [
      "/home/gokala/.conda/envs/cell2loc_env/lib/python3.9/abc.py:119: FutureWarning: SparseDataset is deprecated and will be removed in late 2024. It has been replaced by the public classes CSRDataset and CSCDataset.\n",
      "\n",
      "For instance checks, use `isinstance(X, (anndata.experimental.CSRDataset, anndata.experimental.CSCDataset))` instead.\n",
      "\n",
      "For creation, use `anndata.experimental.sparse_dataset(X)` instead.\n",
      "\n",
      "  return _abc_instancecheck(cls, instance)\n",
      "GPU available: False, used: False\n",
      "TPU available: False, using: 0 TPU cores\n",
      "IPU available: False, using: 0 IPUs\n",
      "HPU available: False, using: 0 HPUs\n",
      "/home/gokala/.conda/envs/cell2loc_env/lib/python3.9/site-packages/lightning/pytorch/trainer/configuration_validator.py:69: You passed in a `val_dataloader` but have no `validation_step`. Skipping val loop.\n",
      "/home/gokala/.conda/envs/cell2loc_env/lib/python3.9/abc.py:119: FutureWarning: SparseDataset is deprecated and will be removed in late 2024. It has been replaced by the public classes CSRDataset and CSCDataset.\n",
      "\n",
      "For instance checks, use `isinstance(X, (anndata.experimental.CSRDataset, anndata.experimental.CSCDataset))` instead.\n",
      "\n",
      "For creation, use `anndata.experimental.sparse_dataset(X)` instead.\n",
      "\n",
      "  return _abc_instancecheck(cls, instance)\n"
     ]
    },
    {
     "name": "stdout",
     "output_type": "stream",
     "text": [
      "Epoch 1/127:   1%|▊                                                                                                 | 1/127 [00:05<10:33,  5.03s/it, v_num=1]"
     ]
    },
    {
     "name": "stderr",
     "output_type": "stream",
     "text": [
      "`Trainer.fit` stopped: `max_steps=1` reached.\n"
     ]
    },
    {
     "name": "stdout",
     "output_type": "stream",
     "text": [
      "Epoch 1/127:   1%|▊                                                                                                 | 1/127 [00:05<10:38,  5.06s/it, v_num=1]\n"
     ]
    }
   ],
   "source": [
    "# load the model and output h5ad when you want to continue analysis\n",
    "adata_file = f\"{ref_run_name}/sc.h5ad\"\n",
    "adata_ref_chimp = sc.read_h5ad(adata_file)\n",
    "mod = cell2location.models.RegressionModel.load(f\"{ref_run_name}\", adata_ref_chimp)"
   ]
  },
  {
   "cell_type": "code",
   "execution_count": 8,
   "id": "15896270-37ba-476c-9126-d8b92f360f2f",
   "metadata": {},
   "outputs": [
    {
     "data": {
      "text/html": [
       "<div>\n",
       "<style scoped>\n",
       "    .dataframe tbody tr th:only-of-type {\n",
       "        vertical-align: middle;\n",
       "    }\n",
       "\n",
       "    .dataframe tbody tr th {\n",
       "        vertical-align: top;\n",
       "    }\n",
       "\n",
       "    .dataframe thead th {\n",
       "        text-align: right;\n",
       "    }\n",
       "</style>\n",
       "<table border=\"1\" class=\"dataframe\">\n",
       "  <thead>\n",
       "    <tr style=\"text-align: right;\">\n",
       "      <th></th>\n",
       "      <th>ADARB2 KCNG1</th>\n",
       "      <th>Astro</th>\n",
       "      <th>Endo</th>\n",
       "      <th>Immune</th>\n",
       "      <th>L2-3 IT</th>\n",
       "    </tr>\n",
       "    <tr>\n",
       "      <th>gene_ID</th>\n",
       "      <th></th>\n",
       "      <th></th>\n",
       "      <th></th>\n",
       "      <th></th>\n",
       "      <th></th>\n",
       "    </tr>\n",
       "  </thead>\n",
       "  <tbody>\n",
       "    <tr>\n",
       "      <th>ENSPTRG00000022530</th>\n",
       "      <td>0.055655</td>\n",
       "      <td>0.021912</td>\n",
       "      <td>0.017105</td>\n",
       "      <td>0.019347</td>\n",
       "      <td>0.125163</td>\n",
       "    </tr>\n",
       "    <tr>\n",
       "      <th>ENSPTRG00000023996</th>\n",
       "      <td>0.043499</td>\n",
       "      <td>0.011349</td>\n",
       "      <td>0.004452</td>\n",
       "      <td>0.005270</td>\n",
       "      <td>0.086816</td>\n",
       "    </tr>\n",
       "    <tr>\n",
       "      <th>ISG15</th>\n",
       "      <td>0.099838</td>\n",
       "      <td>0.019784</td>\n",
       "      <td>0.195977</td>\n",
       "      <td>0.041381</td>\n",
       "      <td>0.142647</td>\n",
       "    </tr>\n",
       "    <tr>\n",
       "      <th>ENSPTRG00000050180</th>\n",
       "      <td>0.447587</td>\n",
       "      <td>0.144736</td>\n",
       "      <td>0.211132</td>\n",
       "      <td>0.069168</td>\n",
       "      <td>0.802636</td>\n",
       "    </tr>\n",
       "    <tr>\n",
       "      <th>ENSPTRG00000051432</th>\n",
       "      <td>0.049639</td>\n",
       "      <td>0.024133</td>\n",
       "      <td>0.015432</td>\n",
       "      <td>0.009399</td>\n",
       "      <td>0.093496</td>\n",
       "    </tr>\n",
       "  </tbody>\n",
       "</table>\n",
       "</div>"
      ],
      "text/plain": [
       "                    ADARB2 KCNG1     Astro      Endo    Immune   L2-3 IT\n",
       "gene_ID                                                                 \n",
       "ENSPTRG00000022530      0.055655  0.021912  0.017105  0.019347  0.125163\n",
       "ENSPTRG00000023996      0.043499  0.011349  0.004452  0.005270  0.086816\n",
       "ISG15                   0.099838  0.019784  0.195977  0.041381  0.142647\n",
       "ENSPTRG00000050180      0.447587  0.144736  0.211132  0.069168  0.802636\n",
       "ENSPTRG00000051432      0.049639  0.024133  0.015432  0.009399  0.093496"
      ]
     },
     "execution_count": 8,
     "metadata": {},
     "output_type": "execute_result"
    }
   ],
   "source": [
    "# export estimated expression in each cluster\n",
    "if 'means_per_cluster_mu_fg' in adata_ref_chimp.varm.keys():\n",
    "    inf_aver = adata_ref_chimp.varm['means_per_cluster_mu_fg'][[f'means_per_cluster_mu_fg_{i}'\n",
    "                                    for i in adata_ref_chimp.uns['mod']['factor_names']]].copy()\n",
    "else:\n",
    "    inf_aver = adata_ref_chimp.var[[f'means_per_cluster_mu_fg_{i}'\n",
    "                                    for i in adata_ref_chimp.uns['mod']['factor_names']]].copy()\n",
    "\n",
    "inf_aver.columns = adata_ref_chimp.uns['mod']['factor_names']\n",
    "\n",
    "inf_aver.iloc[0:5, 0:5]"
   ]
  },
  {
   "cell_type": "code",
   "execution_count": 22,
   "id": "c77c0fa7-11b4-4652-be56-a2e09d8301cf",
   "metadata": {},
   "outputs": [],
   "source": [
    "# find shared genes and subset both anndata and reference signatures\n",
    "intersect = np.intersect1d(adata_vis.var_names, inf_aver.index)\n",
    "adata_vis = adata_vis[:, intersect].copy()\n",
    "inf_aver = inf_aver.loc[intersect, :].copy()\n",
    "\n",
    "# prepare anndata for cell2location model\n",
    "cell2location.models.Cell2location.setup_anndata(adata=adata_vis, batch_key=\"sample\")"
   ]
  },
  {
   "cell_type": "code",
   "execution_count": 23,
   "id": "9d88c448-f24f-42e2-9480-5654122d4788",
   "metadata": {},
   "outputs": [
    {
     "data": {
      "text/plain": [
       "False"
      ]
     },
     "execution_count": 23,
     "metadata": {},
     "output_type": "execute_result"
    }
   ],
   "source": [
    "np.isnan(np.sum(adata_vis.X))"
   ]
  },
  {
   "cell_type": "code",
   "execution_count": 24,
   "id": "a3b5d3e2-d899-4f66-b985-0e3410d94912",
   "metadata": {},
   "outputs": [
    {
     "data": {
      "text/plain": [
       "AnnData object with n_obs × n_vars = 3735 × 10782\n",
       "    obs: 'in_tissue', 'array_row', 'array_col', 'sample', '_indices', '_scvi_batch', '_scvi_labels'\n",
       "    var: 'feature_types', 'genome', 'SYMBOL', 'MT_gene'\n",
       "    uns: 'spatial', '_scvi_uuid', '_scvi_manager_uuid'\n",
       "    obsm: 'spatial', 'MT'"
      ]
     },
     "execution_count": 24,
     "metadata": {},
     "output_type": "execute_result"
    }
   ],
   "source": [
    "adata_vis"
   ]
  },
  {
   "cell_type": "code",
   "execution_count": 25,
   "id": "b99390c0-1d85-4f97-94eb-1e4bfdfc4b4b",
   "metadata": {},
   "outputs": [
    {
     "data": {
      "text/html": [
       "<pre style=\"white-space:pre;overflow-x:auto;line-height:normal;font-family:Menlo,'DejaVu Sans Mono',consolas,'Courier New',monospace\">Anndata setup with scvi-tools version <span style=\"color: #008080; text-decoration-color: #008080; font-weight: bold\">1.0</span>.<span style=\"color: #008080; text-decoration-color: #008080; font-weight: bold\">4</span>.\n",
       "</pre>\n"
      ],
      "text/plain": [
       "Anndata setup with scvi-tools version \u001b[1;36m1.0\u001b[0m.\u001b[1;36m4\u001b[0m.\n"
      ]
     },
     "metadata": {},
     "output_type": "display_data"
    },
    {
     "data": {
      "text/html": [
       "<pre style=\"white-space:pre;overflow-x:auto;line-height:normal;font-family:Menlo,'DejaVu Sans Mono',consolas,'Courier New',monospace\">\n",
       "</pre>\n"
      ],
      "text/plain": [
       "\n"
      ]
     },
     "metadata": {},
     "output_type": "display_data"
    },
    {
     "data": {
      "text/html": [
       "<pre style=\"white-space:pre;overflow-x:auto;line-height:normal;font-family:Menlo,'DejaVu Sans Mono',consolas,'Courier New',monospace\">Setup via `Cell2location.setup_anndata` with arguments:\n",
       "</pre>\n"
      ],
      "text/plain": [
       "Setup via `Cell2location.setup_anndata` with arguments:\n"
      ]
     },
     "metadata": {},
     "output_type": "display_data"
    },
    {
     "data": {
      "text/html": [
       "<pre style=\"white-space:pre;overflow-x:auto;line-height:normal;font-family:Menlo,'DejaVu Sans Mono',consolas,'Courier New',monospace\"><span style=\"font-weight: bold\">{</span>\n",
       "<span style=\"color: #7fbf7f; text-decoration-color: #7fbf7f\">│   </span><span style=\"color: #008000; text-decoration-color: #008000\">'layer'</span>: <span style=\"color: #800080; text-decoration-color: #800080; font-style: italic\">None</span>,\n",
       "<span style=\"color: #7fbf7f; text-decoration-color: #7fbf7f\">│   </span><span style=\"color: #008000; text-decoration-color: #008000\">'batch_key'</span>: <span style=\"color: #008000; text-decoration-color: #008000\">'sample'</span>,\n",
       "<span style=\"color: #7fbf7f; text-decoration-color: #7fbf7f\">│   </span><span style=\"color: #008000; text-decoration-color: #008000\">'labels_key'</span>: <span style=\"color: #800080; text-decoration-color: #800080; font-style: italic\">None</span>,\n",
       "<span style=\"color: #7fbf7f; text-decoration-color: #7fbf7f\">│   </span><span style=\"color: #008000; text-decoration-color: #008000\">'categorical_covariate_keys'</span>: <span style=\"color: #800080; text-decoration-color: #800080; font-style: italic\">None</span>,\n",
       "<span style=\"color: #7fbf7f; text-decoration-color: #7fbf7f\">│   </span><span style=\"color: #008000; text-decoration-color: #008000\">'continuous_covariate_keys'</span>: <span style=\"color: #800080; text-decoration-color: #800080; font-style: italic\">None</span>\n",
       "<span style=\"font-weight: bold\">}</span>\n",
       "</pre>\n"
      ],
      "text/plain": [
       "\u001b[1m{\u001b[0m\n",
       "\u001b[2;32m│   \u001b[0m\u001b[32m'layer'\u001b[0m: \u001b[3;35mNone\u001b[0m,\n",
       "\u001b[2;32m│   \u001b[0m\u001b[32m'batch_key'\u001b[0m: \u001b[32m'sample'\u001b[0m,\n",
       "\u001b[2;32m│   \u001b[0m\u001b[32m'labels_key'\u001b[0m: \u001b[3;35mNone\u001b[0m,\n",
       "\u001b[2;32m│   \u001b[0m\u001b[32m'categorical_covariate_keys'\u001b[0m: \u001b[3;35mNone\u001b[0m,\n",
       "\u001b[2;32m│   \u001b[0m\u001b[32m'continuous_covariate_keys'\u001b[0m: \u001b[3;35mNone\u001b[0m\n",
       "\u001b[1m}\u001b[0m\n"
      ]
     },
     "metadata": {},
     "output_type": "display_data"
    },
    {
     "data": {
      "text/html": [
       "<pre style=\"white-space:pre;overflow-x:auto;line-height:normal;font-family:Menlo,'DejaVu Sans Mono',consolas,'Courier New',monospace\">\n",
       "</pre>\n"
      ],
      "text/plain": [
       "\n"
      ]
     },
     "metadata": {},
     "output_type": "display_data"
    },
    {
     "data": {
      "text/html": [
       "<pre style=\"white-space:pre;overflow-x:auto;line-height:normal;font-family:Menlo,'DejaVu Sans Mono',consolas,'Courier New',monospace\"><span style=\"font-style: italic\">         Summary Statistics         </span>\n",
       "┏━━━━━━━━━━━━━━━━━━━━━━━━━━┳━━━━━━━┓\n",
       "┃<span style=\"font-weight: bold\">     Summary Stat Key     </span>┃<span style=\"font-weight: bold\"> Value </span>┃\n",
       "┡━━━━━━━━━━━━━━━━━━━━━━━━━━╇━━━━━━━┩\n",
       "│<span style=\"color: #0087ff; text-decoration-color: #0087ff\">         n_batch          </span>│<span style=\"color: #af00d7; text-decoration-color: #af00d7\">   1   </span>│\n",
       "│<span style=\"color: #0087ff; text-decoration-color: #0087ff\">         n_cells          </span>│<span style=\"color: #af00d7; text-decoration-color: #af00d7\"> 3735  </span>│\n",
       "│<span style=\"color: #0087ff; text-decoration-color: #0087ff\"> n_extra_categorical_covs </span>│<span style=\"color: #af00d7; text-decoration-color: #af00d7\">   0   </span>│\n",
       "│<span style=\"color: #0087ff; text-decoration-color: #0087ff\"> n_extra_continuous_covs  </span>│<span style=\"color: #af00d7; text-decoration-color: #af00d7\">   0   </span>│\n",
       "│<span style=\"color: #0087ff; text-decoration-color: #0087ff\">         n_labels         </span>│<span style=\"color: #af00d7; text-decoration-color: #af00d7\">   1   </span>│\n",
       "│<span style=\"color: #0087ff; text-decoration-color: #0087ff\">          n_vars          </span>│<span style=\"color: #af00d7; text-decoration-color: #af00d7\"> 10782 </span>│\n",
       "└──────────────────────────┴───────┘\n",
       "</pre>\n"
      ],
      "text/plain": [
       "\u001b[3m         Summary Statistics         \u001b[0m\n",
       "┏━━━━━━━━━━━━━━━━━━━━━━━━━━┳━━━━━━━┓\n",
       "┃\u001b[1m \u001b[0m\u001b[1m    Summary Stat Key    \u001b[0m\u001b[1m \u001b[0m┃\u001b[1m \u001b[0m\u001b[1mValue\u001b[0m\u001b[1m \u001b[0m┃\n",
       "┡━━━━━━━━━━━━━━━━━━━━━━━━━━╇━━━━━━━┩\n",
       "│\u001b[38;5;33m \u001b[0m\u001b[38;5;33m        n_batch         \u001b[0m\u001b[38;5;33m \u001b[0m│\u001b[38;5;128m \u001b[0m\u001b[38;5;128m  1  \u001b[0m\u001b[38;5;128m \u001b[0m│\n",
       "│\u001b[38;5;33m \u001b[0m\u001b[38;5;33m        n_cells         \u001b[0m\u001b[38;5;33m \u001b[0m│\u001b[38;5;128m \u001b[0m\u001b[38;5;128m3735 \u001b[0m\u001b[38;5;128m \u001b[0m│\n",
       "│\u001b[38;5;33m \u001b[0m\u001b[38;5;33mn_extra_categorical_covs\u001b[0m\u001b[38;5;33m \u001b[0m│\u001b[38;5;128m \u001b[0m\u001b[38;5;128m  0  \u001b[0m\u001b[38;5;128m \u001b[0m│\n",
       "│\u001b[38;5;33m \u001b[0m\u001b[38;5;33mn_extra_continuous_covs \u001b[0m\u001b[38;5;33m \u001b[0m│\u001b[38;5;128m \u001b[0m\u001b[38;5;128m  0  \u001b[0m\u001b[38;5;128m \u001b[0m│\n",
       "│\u001b[38;5;33m \u001b[0m\u001b[38;5;33m        n_labels        \u001b[0m\u001b[38;5;33m \u001b[0m│\u001b[38;5;128m \u001b[0m\u001b[38;5;128m  1  \u001b[0m\u001b[38;5;128m \u001b[0m│\n",
       "│\u001b[38;5;33m \u001b[0m\u001b[38;5;33m         n_vars         \u001b[0m\u001b[38;5;33m \u001b[0m│\u001b[38;5;128m \u001b[0m\u001b[38;5;128m10782\u001b[0m\u001b[38;5;128m \u001b[0m│\n",
       "└──────────────────────────┴───────┘\n"
      ]
     },
     "metadata": {},
     "output_type": "display_data"
    },
    {
     "data": {
      "text/html": [
       "<pre style=\"white-space:pre;overflow-x:auto;line-height:normal;font-family:Menlo,'DejaVu Sans Mono',consolas,'Courier New',monospace\"><span style=\"font-style: italic\">               Data Registry                </span>\n",
       "┏━━━━━━━━━━━━━━┳━━━━━━━━━━━━━━━━━━━━━━━━━━━┓\n",
       "┃<span style=\"font-weight: bold\"> Registry Key </span>┃<span style=\"font-weight: bold\">    scvi-tools Location    </span>┃\n",
       "┡━━━━━━━━━━━━━━╇━━━━━━━━━━━━━━━━━━━━━━━━━━━┩\n",
       "│<span style=\"color: #0087ff; text-decoration-color: #0087ff\">      X       </span>│<span style=\"color: #af00d7; text-decoration-color: #af00d7\">          adata.X          </span>│\n",
       "│<span style=\"color: #0087ff; text-decoration-color: #0087ff\">    batch     </span>│<span style=\"color: #af00d7; text-decoration-color: #af00d7\"> adata.obs['_scvi_batch']  </span>│\n",
       "│<span style=\"color: #0087ff; text-decoration-color: #0087ff\">    ind_x     </span>│<span style=\"color: #af00d7; text-decoration-color: #af00d7\">   adata.obs['_indices']   </span>│\n",
       "│<span style=\"color: #0087ff; text-decoration-color: #0087ff\">    labels    </span>│<span style=\"color: #af00d7; text-decoration-color: #af00d7\"> adata.obs['_scvi_labels'] </span>│\n",
       "└──────────────┴───────────────────────────┘\n",
       "</pre>\n"
      ],
      "text/plain": [
       "\u001b[3m               Data Registry                \u001b[0m\n",
       "┏━━━━━━━━━━━━━━┳━━━━━━━━━━━━━━━━━━━━━━━━━━━┓\n",
       "┃\u001b[1m \u001b[0m\u001b[1mRegistry Key\u001b[0m\u001b[1m \u001b[0m┃\u001b[1m \u001b[0m\u001b[1m   scvi-tools Location   \u001b[0m\u001b[1m \u001b[0m┃\n",
       "┡━━━━━━━━━━━━━━╇━━━━━━━━━━━━━━━━━━━━━━━━━━━┩\n",
       "│\u001b[38;5;33m \u001b[0m\u001b[38;5;33m     X      \u001b[0m\u001b[38;5;33m \u001b[0m│\u001b[38;5;128m \u001b[0m\u001b[38;5;128m         adata.X         \u001b[0m\u001b[38;5;128m \u001b[0m│\n",
       "│\u001b[38;5;33m \u001b[0m\u001b[38;5;33m   batch    \u001b[0m\u001b[38;5;33m \u001b[0m│\u001b[38;5;128m \u001b[0m\u001b[38;5;128madata.obs['_scvi_batch'] \u001b[0m\u001b[38;5;128m \u001b[0m│\n",
       "│\u001b[38;5;33m \u001b[0m\u001b[38;5;33m   ind_x    \u001b[0m\u001b[38;5;33m \u001b[0m│\u001b[38;5;128m \u001b[0m\u001b[38;5;128m  adata.obs['_indices']  \u001b[0m\u001b[38;5;128m \u001b[0m│\n",
       "│\u001b[38;5;33m \u001b[0m\u001b[38;5;33m   labels   \u001b[0m\u001b[38;5;33m \u001b[0m│\u001b[38;5;128m \u001b[0m\u001b[38;5;128madata.obs['_scvi_labels']\u001b[0m\u001b[38;5;128m \u001b[0m│\n",
       "└──────────────┴───────────────────────────┘\n"
      ]
     },
     "metadata": {},
     "output_type": "display_data"
    },
    {
     "data": {
      "text/html": [
       "<pre style=\"white-space:pre;overflow-x:auto;line-height:normal;font-family:Menlo,'DejaVu Sans Mono',consolas,'Courier New',monospace\"><span style=\"font-style: italic\">                      batch State Registry                       </span>\n",
       "┏━━━━━━━━━━━━━━━━━━━━━┳━━━━━━━━━━━━━━━━━━━┳━━━━━━━━━━━━━━━━━━━━━┓\n",
       "┃<span style=\"font-weight: bold\">   Source Location   </span>┃<span style=\"font-weight: bold\">    Categories     </span>┃<span style=\"font-weight: bold\"> scvi-tools Encoding </span>┃\n",
       "┡━━━━━━━━━━━━━━━━━━━━━╇━━━━━━━━━━━━━━━━━━━╇━━━━━━━━━━━━━━━━━━━━━┩\n",
       "│<span style=\"color: #0087ff; text-decoration-color: #0087ff\"> adata.obs['sample'] </span>│<span style=\"color: #008000; text-decoration-color: #008000\"> Takki_leFP_004_D1 </span>│<span style=\"color: #af00d7; text-decoration-color: #af00d7\">          0          </span>│\n",
       "└─────────────────────┴───────────────────┴─────────────────────┘\n",
       "</pre>\n"
      ],
      "text/plain": [
       "\u001b[3m                      batch State Registry                       \u001b[0m\n",
       "┏━━━━━━━━━━━━━━━━━━━━━┳━━━━━━━━━━━━━━━━━━━┳━━━━━━━━━━━━━━━━━━━━━┓\n",
       "┃\u001b[1m \u001b[0m\u001b[1m  Source Location  \u001b[0m\u001b[1m \u001b[0m┃\u001b[1m \u001b[0m\u001b[1m   Categories    \u001b[0m\u001b[1m \u001b[0m┃\u001b[1m \u001b[0m\u001b[1mscvi-tools Encoding\u001b[0m\u001b[1m \u001b[0m┃\n",
       "┡━━━━━━━━━━━━━━━━━━━━━╇━━━━━━━━━━━━━━━━━━━╇━━━━━━━━━━━━━━━━━━━━━┩\n",
       "│\u001b[38;5;33m \u001b[0m\u001b[38;5;33madata.obs['sample']\u001b[0m\u001b[38;5;33m \u001b[0m│\u001b[32m \u001b[0m\u001b[32mTakki_leFP_004_D1\u001b[0m\u001b[32m \u001b[0m│\u001b[38;5;128m \u001b[0m\u001b[38;5;128m         0         \u001b[0m\u001b[38;5;128m \u001b[0m│\n",
       "└─────────────────────┴───────────────────┴─────────────────────┘\n"
      ]
     },
     "metadata": {},
     "output_type": "display_data"
    },
    {
     "data": {
      "text/html": [
       "<pre style=\"white-space:pre;overflow-x:auto;line-height:normal;font-family:Menlo,'DejaVu Sans Mono',consolas,'Courier New',monospace\"><span style=\"font-style: italic\">                     labels State Registry                      </span>\n",
       "┏━━━━━━━━━━━━━━━━━━━━━━━━━━━┳━━━━━━━━━━━━┳━━━━━━━━━━━━━━━━━━━━━┓\n",
       "┃<span style=\"font-weight: bold\">      Source Location      </span>┃<span style=\"font-weight: bold\"> Categories </span>┃<span style=\"font-weight: bold\"> scvi-tools Encoding </span>┃\n",
       "┡━━━━━━━━━━━━━━━━━━━━━━━━━━━╇━━━━━━━━━━━━╇━━━━━━━━━━━━━━━━━━━━━┩\n",
       "│<span style=\"color: #0087ff; text-decoration-color: #0087ff\"> adata.obs['_scvi_labels'] </span>│<span style=\"color: #008000; text-decoration-color: #008000\">     0      </span>│<span style=\"color: #af00d7; text-decoration-color: #af00d7\">          0          </span>│\n",
       "└───────────────────────────┴────────────┴─────────────────────┘\n",
       "</pre>\n"
      ],
      "text/plain": [
       "\u001b[3m                     labels State Registry                      \u001b[0m\n",
       "┏━━━━━━━━━━━━━━━━━━━━━━━━━━━┳━━━━━━━━━━━━┳━━━━━━━━━━━━━━━━━━━━━┓\n",
       "┃\u001b[1m \u001b[0m\u001b[1m     Source Location     \u001b[0m\u001b[1m \u001b[0m┃\u001b[1m \u001b[0m\u001b[1mCategories\u001b[0m\u001b[1m \u001b[0m┃\u001b[1m \u001b[0m\u001b[1mscvi-tools Encoding\u001b[0m\u001b[1m \u001b[0m┃\n",
       "┡━━━━━━━━━━━━━━━━━━━━━━━━━━━╇━━━━━━━━━━━━╇━━━━━━━━━━━━━━━━━━━━━┩\n",
       "│\u001b[38;5;33m \u001b[0m\u001b[38;5;33madata.obs['_scvi_labels']\u001b[0m\u001b[38;5;33m \u001b[0m│\u001b[32m \u001b[0m\u001b[32m    0     \u001b[0m\u001b[32m \u001b[0m│\u001b[38;5;128m \u001b[0m\u001b[38;5;128m         0         \u001b[0m\u001b[38;5;128m \u001b[0m│\n",
       "└───────────────────────────┴────────────┴─────────────────────┘\n"
      ]
     },
     "metadata": {},
     "output_type": "display_data"
    }
   ],
   "source": [
    "# create and train the model\n",
    "mod = cell2location.models.Cell2location(\n",
    "    adata_vis, cell_state_df=inf_aver,\n",
    "    # the expected average cell abundance: tissue-dependent\n",
    "    # hyper-prior which can be estimated from paired histology:\n",
    "    N_cells_per_location=4,\n",
    "    # hyperparameter controlling normalisation of\n",
    "    # within-experiment variation in RNA detection:\n",
    "    detection_alpha=50 # changed this parameter to 50 instead of the default 20\n",
    ")\n",
    "mod.view_anndata_setup()"
   ]
  },
  {
   "cell_type": "code",
   "execution_count": 26,
   "id": "ea095314-c73b-46dc-84ff-6be018bf68f8",
   "metadata": {},
   "outputs": [
    {
     "name": "stderr",
     "output_type": "stream",
     "text": [
      "/home/gokala/.conda/envs/cell2loc_env/lib/python3.9/site-packages/scvi/train/_trainrunner.py:76: UserWarning: `use_gpu` is deprecated in v1.0 and will be removed in v1.1. Please use `accelerator` and `devices` instead.\n",
      "  accelerator, lightning_devices, device = parse_device_args(\n",
      "GPU available: False, used: False\n",
      "TPU available: False, using: 0 TPU cores\n",
      "IPU available: False, using: 0 IPUs\n",
      "HPU available: False, using: 0 HPUs\n",
      "/home/gokala/.conda/envs/cell2loc_env/lib/python3.9/site-packages/lightning/pytorch/trainer/configuration_validator.py:69: You passed in a `val_dataloader` but have no `validation_step`. Skipping val loop.\n",
      "/home/gokala/.conda/envs/cell2loc_env/lib/python3.9/site-packages/lightning/pytorch/loops/fit_loop.py:281: The number of training batches (1) is smaller than the logging interval Trainer(log_every_n_steps=10). Set a lower value for log_every_n_steps if you want to see logs for the training epoch.\n"
     ]
    },
    {
     "name": "stdout",
     "output_type": "stream",
     "text": [
      "Epoch 30000/30000: 100%|█| 30000/30000 [46:45:09<00:00,  5.52s/it, v_num"
     ]
    },
    {
     "name": "stderr",
     "output_type": "stream",
     "text": [
      "`Trainer.fit` stopped: `max_epochs=30000` reached.\n"
     ]
    },
    {
     "name": "stdout",
     "output_type": "stream",
     "text": [
      "Epoch 30000/30000: 100%|█| 30000/30000 [46:45:09<00:00,  5.61s/it, v_num\n"
     ]
    },
    {
     "data": {
      "image/png": "[encoded data removed]",
      "text/plain": [
       "<Figure size 640x480 with 1 Axes>"
      ]
     },
     "metadata": {},
     "output_type": "display_data"
    }
   ],
   "source": [
    "mod.train(max_epochs=30000,\n",
    "          # train using full data (batch_size=None)\n",
    "          batch_size=None,\n",
    "          # use all data points in training because\n",
    "          # we need to estimate cell abundance at all locations\n",
    "          train_size=1,\n",
    "          use_gpu=False,\n",
    "         )\n",
    "\n",
    "# plot ELBO loss history during training, removing first 100 epochs from the plot\n",
    "mod.plot_history(1000)\n",
    "plt.legend(labels=['full data training']);"
   ]
  },
  {
   "cell_type": "code",
   "execution_count": 27,
   "id": "fcdaa08f-5670-4083-ad79-7c076de0886a",
   "metadata": {},
   "outputs": [
    {
     "name": "stderr",
     "output_type": "stream",
     "text": [
      "/home/gokala/.conda/envs/cell2loc_env/lib/python3.9/site-packages/scvi/model/base/_pyromixin.py:388: UserWarning: `use_gpu` is deprecated in v1.0 and will be removed in v1.1. Please use `accelerator` and `devices` instead.\n",
      "  _, _, device = parse_device_args(\n"
     ]
    },
    {
     "name": "stdout",
     "output_type": "stream",
     "text": [
      "Sampling local variables, batch: 100%|███| 1/1 [03:02<00:00, 182.79s/it]\n",
      "Sampling global variables, sample: 100%|█| 999/999 [03:22<00:00,  4.92it\n"
     ]
    },
    {
     "data": {
      "text/plain": [
       "'/data/workspaces/lag/workspaces/lg-spatial-transcriptomics/working_data/chimp_brain/gokberk/results/snRNA_integration/cell2location_map/sp.h5ad'"
      ]
     },
     "execution_count": 27,
     "metadata": {},
     "output_type": "execute_result"
    }
   ],
   "source": [
    "# In this section, we export the estimated cell abundance (summary of the posterior distribution).\n",
    "adata_vis = mod.export_posterior(\n",
    "    adata_vis, sample_kwargs={'num_samples': 1000, 'batch_size': mod.adata.n_obs, 'use_gpu': False}\n",
    ")\n",
    "\n",
    "# Save model\n",
    "mod.save(f\"{run_name}\", overwrite=True)\n",
    "\n",
    "# mod = cell2location.models.Cell2location.load(f\"{run_name}\", adata_vis)\n",
    "\n",
    "# Save anndata object with results\n",
    "adata_file = f\"{run_name}/sp.h5ad\"\n",
    "adata_vis.write(adata_file)\n",
    "adata_file"
   ]
  },
  {
   "cell_type": "code",
   "execution_count": null,
   "id": "ab1ca503-1273-48a9-9418-f66457662402",
   "metadata": {},
   "outputs": [],
   "source": [
    "# Load data to continue analysis afterwards\n",
    "#adata_file = f\"{run_name}/sp.h5ad\"\n",
    "#adata_vis = sc.read_h5ad(adata_file)\n",
    "#mod = cell2location.models.Cell2location.load(f\"{run_name}\", adata_vis)"
   ]
  },
  {
   "cell_type": "code",
   "execution_count": 29,
   "id": "efb2c2a0-5ba6-4fe8-b94c-5aa31fc1ad4c",
   "metadata": {},
   "outputs": [],
   "source": [
    "# plot some QC metrics\n",
    "\n",
    "if True:\n",
    "    mod.plot_QC()\n",
    "    plt.savefig(f\"{run_name}/reconstruction_accuracy_histogram.png\",\n",
    "                bbox_inches='tight')\n",
    "    plt.close()\n",
    "\n",
    "fig = mod.plot_spatial_QC_across_batches()\n",
    "fig\n",
    "fig.savefig(f\"{run_name}/RNAcounts_cellAbundance_detectionSensitivity.png\", bbox_inches='tight')\n",
    "plt.close()"
   ]
  },
  {
   "cell_type": "code",
   "execution_count": 28,
   "id": "6e55dfd4-d6c4-4bf9-8887-8095b1dfcb63",
   "metadata": {},
   "outputs": [],
   "source": [
    "def plot_spatial_per_cell_type(adata, cell_type='total_counts', samples = adata_vis.obs['sample'].cat.categories,\n",
    "                               ncol=3, prefix='', figsize=(24, 6), vmax_quantile=0.992):\n",
    "    n_samples = len(samples)\n",
    "    nrow = int(np.ceil(n_samples / ncol))\n",
    "    fig, axs = plt.subplots(nrow, ncol, figsize=figsize)\n",
    "    if nrow == 1:\n",
    "        axs = axs.reshape((1, ncol))\n",
    "    \n",
    "    col_name = f'{prefix}{cell_type}'\n",
    "    vmax = np.quantile(adata.obs[col_name].values, vmax_quantile)\n",
    "    adata.obs[cell_type] = adata.obs[col_name].copy()\n",
    "    \n",
    "    from itertools import chain\n",
    "    ind = list(chain(*[[(i, j) for i in range(nrow)] for j in range(ncol)]))\n",
    "    \n",
    "    for i, s in enumerate(samples):\n",
    "        sp_data_s = select_slide(adata, s)\n",
    "        sc.pl.spatial(sp_data_s, cmap='magma',\n",
    "                      color=cell_type, \n",
    "                      size=1.3, img_key='hires', alpha_img=1,\n",
    "                      vmin=0, vmax=vmax, ax=axs[ind[i][0],ind[i][1]], show=False)\n",
    "        axs[ind[i][0],ind[i][1]].title.set_text(cell_type+'\\n'+s)\n",
    "        \n",
    "    if len(samples) < len(axs.flatten()):\n",
    "        for i in range(len(samples), len(axs.flatten())):\n",
    "            axs[ind[i][0],ind[i][1]].axis('off')\n",
    "        \n",
    "    fig.tight_layout(pad=0.5)\n",
    "        \n",
    "    return fig"
   ]
  },
  {
   "cell_type": "code",
   "execution_count": 30,
   "id": "79f62ece-b6c1-466f-b31d-3818f656646e",
   "metadata": {},
   "outputs": [],
   "source": [
    "from re import sub\n",
    "import os\n",
    "\n",
    "adata_vis.obs[adata_vis.uns['mod']['factor_names']] = adata_vis.obsm['q05_cell_abundance_w_sf']\n",
    "\n",
    "\n",
    "with mpl.rc_context({\"axes.facecolor\": \"black\"}):\n",
    "        clust_names = adata_vis.uns['mod']['factor_names']\n",
    "\n",
    "        for s in adata_vis.obs['sample'].unique():\n",
    "\n",
    "            s_ind = adata_vis.obs['sample'] == s\n",
    "            s_keys = list(adata_vis.uns['spatial'].keys())\n",
    "            s_spatial = np.array(s_keys)[[s in i for i in s_keys]][0]\n",
    "\n",
    "            fig = sc.pl.spatial(adata_vis[s_ind, :], cmap='magma',\n",
    "                                color=clust_names, ncols=5, library_id=s_spatial,\n",
    "                                size=1.3, img_key='hires', alpha_img=1,\n",
    "                                vmin=0, vmax='p99.2',\n",
    "                                return_fig=True, show=False)\n",
    "\n",
    "            fig_dir = f\"{run_name}/spatial/\"\n",
    "            if not os.path.exists(fig_dir):\n",
    "                os.mkdir(fig_dir)\n",
    "            fig_dir = f\"{run_name}/spatial/per_sample/\"\n",
    "            if not os.path.exists(fig_dir):\n",
    "                os.mkdir(fig_dir)\n",
    "\n",
    "            plt.savefig(f\"{fig_dir}W_cell_abundance_q05_{s}.png\",\n",
    "                        bbox_inches='tight')\n",
    "            plt.close()"
   ]
  },
  {
   "cell_type": "code",
   "execution_count": 31,
   "id": "63b88d87-57f8-4dea-88dc-63d180ad884b",
   "metadata": {},
   "outputs": [],
   "source": [
    "# Now we use cell2location plotter that allows showing multiple cell types in one panel\n",
    "from cell2location.plt import plot_spatial\n",
    "\n",
    "# select up to 6 clusters\n",
    "clust_labels = ['L2-3 IT', 'L3-5 IT-1', 'L3-5 IT-3', 'L6 CT', 'Oligo', 'Astro']\n",
    "clust_col = ['' + str(i) for i in clust_labels] # in case column names differ from labels\n",
    "\n",
    "slide = cell2location.utils.select_slide(adata_vis, 'Takki_leFP_004_D1')\n",
    "\n",
    "with mpl.rc_context({'figure.figsize': (15, 15)}):\n",
    "    fig = plot_spatial(\n",
    "        adata=slide,\n",
    "        # labels to show on a plot\n",
    "        color=clust_col, labels=clust_labels,\n",
    "        show_img=True,\n",
    "        # 'fast' (white background) or 'dark_background'\n",
    "        style='fast',\n",
    "        # limit color scale at 99.2% quantile of cell abundance\n",
    "        max_color_quantile=0.992,\n",
    "        # size of locations (adjust depending on figure size)\n",
    "        circle_diameter=6,\n",
    "        colorbar_position='right'\n",
    "    )\n",
    "    fig.savefig(f\"{run_name}/multiCellTypes.png\", bbox_inches='tight')\n",
    "    fig.clear()\n",
    "    plt.close(fig)"
   ]
  }
 ],
 "metadata": {
  "kernelspec": {
   "display_name": "Environment (cell2loc_env)",
   "language": "python",
   "name": "cell2loc_env"
  },
  "language_info": {
   "codemirror_mode": {
    "name": "ipython",
    "version": 3
   },
   "file_extension": ".py",
   "mimetype": "text/x-python",
   "name": "python",
   "nbconvert_exporter": "python",
   "pygments_lexer": "ipython3",
   "version": "3.9.18"
  }
 },
 "nbformat": 4,
 "nbformat_minor": 5
}
